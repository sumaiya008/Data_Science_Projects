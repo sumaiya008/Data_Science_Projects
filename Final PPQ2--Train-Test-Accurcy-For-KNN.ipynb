{
 "cells": [
  {
   "cell_type": "markdown",
   "id": "a8184809-55cf-4577-bf90-4cafa0df94fb",
   "metadata": {},
   "source": [
    "# Final Programming Part Problem 2, Ploting Complexity of KNN using Training Test Curves\n",
    "\n",
    "This is a high level overview for what you need to do.\n",
    "\n",
    "1. Import all necessary libraries\n",
    "2. Load the data \"palmerpenguinscsv\" from a URL into a Pandas DataFrame.\n",
    "```python\n",
    "        url = \"https://bit.ly/palmerpenguinscsv\"\n",
    "```\n",
    "3. Inspect the the dataframe for missing values.\n",
    "1. Check the summary statics of the numerical columns (mean, min, max, etc)\n",
    "1. Remove any rows with missing values from the DataFrame.\n",
    "1. Check that after removal of missing value (rows) the data is largely intact.\n",
    "1. Check that the statisics did not change drastically.\n",
    "1. Extract the species as \"y\" and the 4 numerical values as \"X\" into numpy arrays\n",
    "1. Split the data into training and test sets.\n",
    "1. Define two lists empty lists to store the accuracy scores for the training and test sets\n",
    "1. Set up a loop iterating through the values in the range of neighbors starting at 1 neighbor and going to 35 neighbors.\n",
    "1. For each value of \"K\", train a KNN classifier using the training data. \n",
    "1. Within the loop, for each value of \"K\", predict using the training data.\n",
    "1. Within the loop, for each value of \"K\", predict using the testing data.\n",
    "1. Within the loop, for each value of \"K\", compute the accuracy of the prediction against the training data (accuracy_score)\n",
    "1. Within the loop, for each value of \"K\", append to the training accuracies\n",
    "1. Within the loop, for each value of \"K\", compute the accuracy of the prediction against the testing data (accuracy_score)\n",
    "1. Within the loop, for each value of \"K\", append to the testing accuracies\n",
    "1. Plot the values in the lists of training and test accuracies curves against the corresponding values in the range of neighbors from 1 to 35, in two different colors with a legend so we know which is training and which is testing.\n",
    "1. Make sure that the axis are labeled by the quanities and units shown on that axis.\n",
    "2. Explain what the graph reveals about underfitting and overfitting on this data set."
   ]
  },
  {
   "cell_type": "markdown",
   "id": "1f0f353f-3432-4bc7-bc38-292fc5b72c85",
   "metadata": {},
   "source": [
    "## 2.1 Import all necessary libraries"
   ]
  },
  {
   "cell_type": "code",
   "execution_count": 1,
   "id": "193c6001-cad9-4b4c-981a-03acddfef993",
   "metadata": {},
   "outputs": [
    {
     "name": "stderr",
     "output_type": "stream",
     "text": [
      "<frozen importlib._bootstrap>:228: RuntimeWarning: scipy._lib.messagestream.MessageStream size changed, may indicate binary incompatibility. Expected 56 from C header, got 64 from PyObject\n"
     ]
    }
   ],
   "source": [
    "#imports\n",
    "import numpy as np\n",
    "import pandas as pd\n",
    "import seaborn as sns\n",
    "import matplotlib.pyplot as plt\n",
    "from sklearn.model_selection import train_test_split"
   ]
  },
  {
   "cell_type": "markdown",
   "id": "db1de622-27b3-4556-a5ac-d48c9797c2c0",
   "metadata": {},
   "source": [
    "## 2.2 Load the data \"palmerpenguinscsv\" from a URL into a Pandas DataFrame.\n",
    "\n",
    "```python\n",
    "        url = \"https://bit.ly/palmerpenguinscsv\"\n",
    "```"
   ]
  },
  {
   "cell_type": "code",
   "execution_count": 37,
   "id": "ade8a899-10e8-48bd-95e3-8692ceb442c0",
   "metadata": {},
   "outputs": [
    {
     "name": "stderr",
     "output_type": "stream",
     "text": [
      "C:\\Users\\sumai\\AppData\\Local\\Temp\\ipykernel_4424\\206145942.py:4: MatplotlibDeprecationWarning: Directly reading images from URLs is deprecated since 3.4 and will no longer be supported two minor releases later. Please open the URL for reading and pass the result to Pillow, e.g. with ``np.array(PIL.Image.open(urllib.request.urlopen(url)))``.\n",
      "  img = mpimg.imread(\"https://bit.ly/palmerpenguinscsv\")\n"
     ]
    },
    {
     "ename": "SyntaxError",
     "evalue": "not a PNG file (<string>)",
     "output_type": "error",
     "traceback": [
      "Traceback \u001b[1;36m(most recent call last)\u001b[0m:\n",
      "  File \u001b[0;32m~\\anaconda3\\New folder\\lib\\site-packages\\IPython\\core\\interactiveshell.py:3369\u001b[0m in \u001b[0;35mrun_code\u001b[0m\n    exec(code_obj, self.user_global_ns, self.user_ns)\n",
      "  Input \u001b[0;32mIn [37]\u001b[0m in \u001b[0;35m<cell line: 4>\u001b[0m\n    img = mpimg.imread(\"https://bit.ly/palmerpenguinscsv\")\n",
      "  File \u001b[0;32m~\\anaconda3\\New folder\\lib\\site-packages\\matplotlib\\image.py:1559\u001b[0m in \u001b[0;35mimread\u001b[0m\n    return imread(response, format=ext)\n",
      "  File \u001b[0;32m~\\anaconda3\\New folder\\lib\\site-packages\\matplotlib\\image.py:1560\u001b[0m in \u001b[0;35mimread\u001b[0m\n    with img_open(fname) as image:\n",
      "  File \u001b[0;32m~\\anaconda3\\New folder\\lib\\site-packages\\PIL\\ImageFile.py:116\u001b[0m in \u001b[0;35m__init__\u001b[0m\n    self._open()\n",
      "\u001b[1;36m  File \u001b[1;32m~\\anaconda3\\New folder\\lib\\site-packages\\PIL\\PngImagePlugin.py:716\u001b[1;36m in \u001b[1;35m_open\u001b[1;36m\u001b[0m\n\u001b[1;33m    raise SyntaxError(\"not a PNG file\")\u001b[0m\n",
      "\u001b[1;36m  File \u001b[1;32m<string>\u001b[1;36m\u001b[0m\n\u001b[1;31mSyntaxError\u001b[0m\u001b[1;31m:\u001b[0m not a PNG file\n"
     ]
    }
   ],
   "source": [
    "# load\n",
    "import matplotlib.image as mpimg\n",
    "import matplotlib.pyplot as plt\n",
    "img = mpimg.imread(\"https://bit.ly/palmerpenguinscsv\")\n",
    "plt.imshow(img)"
   ]
  },
  {
   "cell_type": "markdown",
   "id": "d1f8afe9-fe9d-471b-ac7c-1c939513aad8",
   "metadata": {},
   "source": [
    "## 2.3 Inpect the data frame\n",
    "\n",
    "* Look inside\n",
    "* Inspect the the dataframe for missing values.\n",
    "* Check the summary statics of the numerical columns (mean, min, max, etc)"
   ]
  },
  {
   "cell_type": "code",
   "execution_count": 3,
   "id": "12f5d9aa-6602-4a5f-b07c-7aa3895f5487",
   "metadata": {},
   "outputs": [
    {
     "data": {
      "text/html": [
       "<div>\n",
       "<style scoped>\n",
       "    .dataframe tbody tr th:only-of-type {\n",
       "        vertical-align: middle;\n",
       "    }\n",
       "\n",
       "    .dataframe tbody tr th {\n",
       "        vertical-align: top;\n",
       "    }\n",
       "\n",
       "    .dataframe thead th {\n",
       "        text-align: right;\n",
       "    }\n",
       "</style>\n",
       "<table border=\"1\" class=\"dataframe\">\n",
       "  <thead>\n",
       "    <tr style=\"text-align: right;\">\n",
       "      <th></th>\n",
       "      <th>rowid</th>\n",
       "      <th>species</th>\n",
       "      <th>island</th>\n",
       "      <th>bill_length_mm</th>\n",
       "      <th>bill_depth_mm</th>\n",
       "      <th>flipper_length_mm</th>\n",
       "      <th>body_mass_g</th>\n",
       "      <th>sex</th>\n",
       "      <th>year</th>\n",
       "    </tr>\n",
       "  </thead>\n",
       "  <tbody>\n",
       "    <tr>\n",
       "      <th>0</th>\n",
       "      <td>1</td>\n",
       "      <td>Adelie</td>\n",
       "      <td>Torgersen</td>\n",
       "      <td>39.1</td>\n",
       "      <td>18.7</td>\n",
       "      <td>181.0</td>\n",
       "      <td>3750.0</td>\n",
       "      <td>male</td>\n",
       "      <td>2007</td>\n",
       "    </tr>\n",
       "    <tr>\n",
       "      <th>1</th>\n",
       "      <td>2</td>\n",
       "      <td>Adelie</td>\n",
       "      <td>Torgersen</td>\n",
       "      <td>39.5</td>\n",
       "      <td>17.4</td>\n",
       "      <td>186.0</td>\n",
       "      <td>3800.0</td>\n",
       "      <td>female</td>\n",
       "      <td>2007</td>\n",
       "    </tr>\n",
       "    <tr>\n",
       "      <th>2</th>\n",
       "      <td>3</td>\n",
       "      <td>Adelie</td>\n",
       "      <td>Torgersen</td>\n",
       "      <td>40.3</td>\n",
       "      <td>18.0</td>\n",
       "      <td>195.0</td>\n",
       "      <td>3250.0</td>\n",
       "      <td>female</td>\n",
       "      <td>2007</td>\n",
       "    </tr>\n",
       "    <tr>\n",
       "      <th>3</th>\n",
       "      <td>4</td>\n",
       "      <td>Adelie</td>\n",
       "      <td>Torgersen</td>\n",
       "      <td>NaN</td>\n",
       "      <td>NaN</td>\n",
       "      <td>NaN</td>\n",
       "      <td>NaN</td>\n",
       "      <td>NaN</td>\n",
       "      <td>2007</td>\n",
       "    </tr>\n",
       "    <tr>\n",
       "      <th>4</th>\n",
       "      <td>5</td>\n",
       "      <td>Adelie</td>\n",
       "      <td>Torgersen</td>\n",
       "      <td>36.7</td>\n",
       "      <td>19.3</td>\n",
       "      <td>193.0</td>\n",
       "      <td>3450.0</td>\n",
       "      <td>female</td>\n",
       "      <td>2007</td>\n",
       "    </tr>\n",
       "  </tbody>\n",
       "</table>\n",
       "</div>"
      ],
      "text/plain": [
       "   rowid species     island  bill_length_mm  bill_depth_mm  flipper_length_mm  \\\n",
       "0      1  Adelie  Torgersen            39.1           18.7              181.0   \n",
       "1      2  Adelie  Torgersen            39.5           17.4              186.0   \n",
       "2      3  Adelie  Torgersen            40.3           18.0              195.0   \n",
       "3      4  Adelie  Torgersen             NaN            NaN                NaN   \n",
       "4      5  Adelie  Torgersen            36.7           19.3              193.0   \n",
       "\n",
       "   body_mass_g     sex  year  \n",
       "0       3750.0    male  2007  \n",
       "1       3800.0  female  2007  \n",
       "2       3250.0  female  2007  \n",
       "3          NaN     NaN  2007  \n",
       "4       3450.0  female  2007  "
      ]
     },
     "execution_count": 3,
     "metadata": {},
     "output_type": "execute_result"
    }
   ],
   "source": [
    "df.head()"
   ]
  },
  {
   "cell_type": "code",
   "execution_count": 4,
   "id": "c53ff7b6",
   "metadata": {},
   "outputs": [
    {
     "data": {
      "text/plain": [
       "(344, 9)"
      ]
     },
     "execution_count": 4,
     "metadata": {},
     "output_type": "execute_result"
    }
   ],
   "source": [
    "df.shape"
   ]
  },
  {
   "cell_type": "code",
   "execution_count": 5,
   "id": "9556d96e",
   "metadata": {},
   "outputs": [
    {
     "data": {
      "text/plain": [
       "Index(['rowid', 'species', 'island', 'bill_length_mm', 'bill_depth_mm',\n",
       "       'flipper_length_mm', 'body_mass_g', 'sex', 'year'],\n",
       "      dtype='object')"
      ]
     },
     "execution_count": 5,
     "metadata": {},
     "output_type": "execute_result"
    }
   ],
   "source": [
    "df.columns"
   ]
  },
  {
   "cell_type": "code",
   "execution_count": 6,
   "id": "ec305bc1",
   "metadata": {},
   "outputs": [
    {
     "name": "stdout",
     "output_type": "stream",
     "text": [
      "<class 'pandas.core.frame.DataFrame'>\n",
      "RangeIndex: 344 entries, 0 to 343\n",
      "Data columns (total 9 columns):\n",
      " #   Column             Non-Null Count  Dtype  \n",
      "---  ------             --------------  -----  \n",
      " 0   rowid              344 non-null    int64  \n",
      " 1   species            344 non-null    object \n",
      " 2   island             344 non-null    object \n",
      " 3   bill_length_mm     342 non-null    float64\n",
      " 4   bill_depth_mm      342 non-null    float64\n",
      " 5   flipper_length_mm  342 non-null    float64\n",
      " 6   body_mass_g        342 non-null    float64\n",
      " 7   sex                333 non-null    object \n",
      " 8   year               344 non-null    int64  \n",
      "dtypes: float64(4), int64(2), object(3)\n",
      "memory usage: 24.3+ KB\n"
     ]
    }
   ],
   "source": [
    "df.info()"
   ]
  },
  {
   "cell_type": "code",
   "execution_count": 7,
   "id": "440507cf",
   "metadata": {},
   "outputs": [
    {
     "data": {
      "text/plain": [
       "True"
      ]
     },
     "execution_count": 7,
     "metadata": {},
     "output_type": "execute_result"
    }
   ],
   "source": [
    "assert df.dtypes.any() != object\n",
    "df.isnull().values.any() "
   ]
  },
  {
   "cell_type": "code",
   "execution_count": 8,
   "id": "d73bab65-4286-4912-b5ed-7f53eadd5fa1",
   "metadata": {},
   "outputs": [
    {
     "data": {
      "text/plain": [
       "rowid                 0\n",
       "species               0\n",
       "island                0\n",
       "bill_length_mm        2\n",
       "bill_depth_mm         2\n",
       "flipper_length_mm     2\n",
       "body_mass_g           2\n",
       "sex                  11\n",
       "year                  0\n",
       "dtype: int64"
      ]
     },
     "execution_count": 8,
     "metadata": {},
     "output_type": "execute_result"
    }
   ],
   "source": [
    "# Checking for Null values count.\n",
    "df.isnull().sum()"
   ]
  },
  {
   "cell_type": "code",
   "execution_count": 9,
   "id": "d799eda9",
   "metadata": {},
   "outputs": [
    {
     "data": {
      "text/html": [
       "<div>\n",
       "<style scoped>\n",
       "    .dataframe tbody tr th:only-of-type {\n",
       "        vertical-align: middle;\n",
       "    }\n",
       "\n",
       "    .dataframe tbody tr th {\n",
       "        vertical-align: top;\n",
       "    }\n",
       "\n",
       "    .dataframe thead th {\n",
       "        text-align: right;\n",
       "    }\n",
       "</style>\n",
       "<table border=\"1\" class=\"dataframe\">\n",
       "  <thead>\n",
       "    <tr style=\"text-align: right;\">\n",
       "      <th></th>\n",
       "      <th>bill_length_mm</th>\n",
       "      <th>bill_depth_mm</th>\n",
       "      <th>flipper_length_mm</th>\n",
       "      <th>body_mass_g</th>\n",
       "      <th>year</th>\n",
       "    </tr>\n",
       "  </thead>\n",
       "  <tbody>\n",
       "    <tr>\n",
       "      <th>count</th>\n",
       "      <td>342.000000</td>\n",
       "      <td>342.000000</td>\n",
       "      <td>342.000000</td>\n",
       "      <td>342.000000</td>\n",
       "      <td>344.000000</td>\n",
       "    </tr>\n",
       "    <tr>\n",
       "      <th>mean</th>\n",
       "      <td>43.921930</td>\n",
       "      <td>17.151170</td>\n",
       "      <td>200.915205</td>\n",
       "      <td>4201.754386</td>\n",
       "      <td>2008.029070</td>\n",
       "    </tr>\n",
       "    <tr>\n",
       "      <th>std</th>\n",
       "      <td>5.459584</td>\n",
       "      <td>1.974793</td>\n",
       "      <td>14.061714</td>\n",
       "      <td>801.954536</td>\n",
       "      <td>0.818356</td>\n",
       "    </tr>\n",
       "    <tr>\n",
       "      <th>min</th>\n",
       "      <td>32.100000</td>\n",
       "      <td>13.100000</td>\n",
       "      <td>172.000000</td>\n",
       "      <td>2700.000000</td>\n",
       "      <td>2007.000000</td>\n",
       "    </tr>\n",
       "    <tr>\n",
       "      <th>25%</th>\n",
       "      <td>39.225000</td>\n",
       "      <td>15.600000</td>\n",
       "      <td>190.000000</td>\n",
       "      <td>3550.000000</td>\n",
       "      <td>2007.000000</td>\n",
       "    </tr>\n",
       "    <tr>\n",
       "      <th>50%</th>\n",
       "      <td>44.450000</td>\n",
       "      <td>17.300000</td>\n",
       "      <td>197.000000</td>\n",
       "      <td>4050.000000</td>\n",
       "      <td>2008.000000</td>\n",
       "    </tr>\n",
       "    <tr>\n",
       "      <th>75%</th>\n",
       "      <td>48.500000</td>\n",
       "      <td>18.700000</td>\n",
       "      <td>213.000000</td>\n",
       "      <td>4750.000000</td>\n",
       "      <td>2009.000000</td>\n",
       "    </tr>\n",
       "    <tr>\n",
       "      <th>max</th>\n",
       "      <td>59.600000</td>\n",
       "      <td>21.500000</td>\n",
       "      <td>231.000000</td>\n",
       "      <td>6300.000000</td>\n",
       "      <td>2009.000000</td>\n",
       "    </tr>\n",
       "  </tbody>\n",
       "</table>\n",
       "</div>"
      ],
      "text/plain": [
       "       bill_length_mm  bill_depth_mm  flipper_length_mm  body_mass_g  \\\n",
       "count      342.000000     342.000000         342.000000   342.000000   \n",
       "mean        43.921930      17.151170         200.915205  4201.754386   \n",
       "std          5.459584       1.974793          14.061714   801.954536   \n",
       "min         32.100000      13.100000         172.000000  2700.000000   \n",
       "25%         39.225000      15.600000         190.000000  3550.000000   \n",
       "50%         44.450000      17.300000         197.000000  4050.000000   \n",
       "75%         48.500000      18.700000         213.000000  4750.000000   \n",
       "max         59.600000      21.500000         231.000000  6300.000000   \n",
       "\n",
       "              year  \n",
       "count   344.000000  \n",
       "mean   2008.029070  \n",
       "std       0.818356  \n",
       "min    2007.000000  \n",
       "25%    2007.000000  \n",
       "50%    2008.000000  \n",
       "75%    2009.000000  \n",
       "max    2009.000000  "
      ]
     },
     "execution_count": 9,
     "metadata": {},
     "output_type": "execute_result"
    }
   ],
   "source": [
    "df = df.drop(['rowid'], axis=1)\n",
    "df.describe()"
   ]
  },
  {
   "cell_type": "markdown",
   "id": "a98a00dc-5238-4e17-a9ac-8892fc4d57f4",
   "metadata": {},
   "source": [
    "## 2.4 Remove any rows with missing values from the DataFrame."
   ]
  },
  {
   "cell_type": "code",
   "execution_count": 10,
   "id": "86b8f5d7-998e-4fa3-9cc5-24bbc51964f6",
   "metadata": {},
   "outputs": [],
   "source": [
    "# remove missing\n",
    "# Droping duplicate value\n",
    "df.drop_duplicates(inplace=True)"
   ]
  },
  {
   "cell_type": "code",
   "execution_count": 11,
   "id": "58ea2f56",
   "metadata": {},
   "outputs": [],
   "source": [
    "df = df.dropna()"
   ]
  },
  {
   "cell_type": "code",
   "execution_count": 12,
   "id": "d54fe595",
   "metadata": {},
   "outputs": [
    {
     "data": {
      "text/plain": [
       "species              0\n",
       "island               0\n",
       "bill_length_mm       0\n",
       "bill_depth_mm        0\n",
       "flipper_length_mm    0\n",
       "body_mass_g          0\n",
       "sex                  0\n",
       "year                 0\n",
       "dtype: int64"
      ]
     },
     "execution_count": 12,
     "metadata": {},
     "output_type": "execute_result"
    }
   ],
   "source": [
    "# Checking for Null values count again\n",
    "df.isnull().sum()"
   ]
  },
  {
   "cell_type": "markdown",
   "id": "94f29e6b-8986-4250-8377-babf5bc5f054",
   "metadata": {},
   "source": [
    "## 2.5 How did it change things?\n",
    "\n",
    "1. Check that after removal of missing value (rows) the data is largely intact.\n",
    "1. Check that the statisics did not change drastically."
   ]
  },
  {
   "cell_type": "code",
   "execution_count": 13,
   "id": "24c46d1b-726e-4be6-bb08-555cf7195f47",
   "metadata": {},
   "outputs": [
    {
     "data": {
      "text/plain": [
       "(333, 8)"
      ]
     },
     "execution_count": 13,
     "metadata": {},
     "output_type": "execute_result"
    }
   ],
   "source": [
    "# inspect again\n",
    "df.shape"
   ]
  },
  {
   "cell_type": "code",
   "execution_count": 14,
   "id": "d2448a41",
   "metadata": {},
   "outputs": [
    {
     "name": "stdout",
     "output_type": "stream",
     "text": [
      "<class 'pandas.core.frame.DataFrame'>\n",
      "Int64Index: 333 entries, 0 to 343\n",
      "Data columns (total 8 columns):\n",
      " #   Column             Non-Null Count  Dtype  \n",
      "---  ------             --------------  -----  \n",
      " 0   species            333 non-null    object \n",
      " 1   island             333 non-null    object \n",
      " 2   bill_length_mm     333 non-null    float64\n",
      " 3   bill_depth_mm      333 non-null    float64\n",
      " 4   flipper_length_mm  333 non-null    float64\n",
      " 5   body_mass_g        333 non-null    float64\n",
      " 6   sex                333 non-null    object \n",
      " 7   year               333 non-null    int64  \n",
      "dtypes: float64(4), int64(1), object(3)\n",
      "memory usage: 23.4+ KB\n"
     ]
    }
   ],
   "source": [
    "df.info()"
   ]
  },
  {
   "cell_type": "code",
   "execution_count": 15,
   "id": "185df97c",
   "metadata": {},
   "outputs": [
    {
     "data": {
      "text/html": [
       "<div>\n",
       "<style scoped>\n",
       "    .dataframe tbody tr th:only-of-type {\n",
       "        vertical-align: middle;\n",
       "    }\n",
       "\n",
       "    .dataframe tbody tr th {\n",
       "        vertical-align: top;\n",
       "    }\n",
       "\n",
       "    .dataframe thead th {\n",
       "        text-align: right;\n",
       "    }\n",
       "</style>\n",
       "<table border=\"1\" class=\"dataframe\">\n",
       "  <thead>\n",
       "    <tr style=\"text-align: right;\">\n",
       "      <th></th>\n",
       "      <th>bill_length_mm</th>\n",
       "      <th>bill_depth_mm</th>\n",
       "      <th>flipper_length_mm</th>\n",
       "      <th>body_mass_g</th>\n",
       "      <th>year</th>\n",
       "    </tr>\n",
       "  </thead>\n",
       "  <tbody>\n",
       "    <tr>\n",
       "      <th>count</th>\n",
       "      <td>333.000000</td>\n",
       "      <td>333.000000</td>\n",
       "      <td>333.000000</td>\n",
       "      <td>333.000000</td>\n",
       "      <td>333.000000</td>\n",
       "    </tr>\n",
       "    <tr>\n",
       "      <th>mean</th>\n",
       "      <td>43.992793</td>\n",
       "      <td>17.164865</td>\n",
       "      <td>200.966967</td>\n",
       "      <td>4207.057057</td>\n",
       "      <td>2008.042042</td>\n",
       "    </tr>\n",
       "    <tr>\n",
       "      <th>std</th>\n",
       "      <td>5.468668</td>\n",
       "      <td>1.969235</td>\n",
       "      <td>14.015765</td>\n",
       "      <td>805.215802</td>\n",
       "      <td>0.812944</td>\n",
       "    </tr>\n",
       "    <tr>\n",
       "      <th>min</th>\n",
       "      <td>32.100000</td>\n",
       "      <td>13.100000</td>\n",
       "      <td>172.000000</td>\n",
       "      <td>2700.000000</td>\n",
       "      <td>2007.000000</td>\n",
       "    </tr>\n",
       "    <tr>\n",
       "      <th>25%</th>\n",
       "      <td>39.500000</td>\n",
       "      <td>15.600000</td>\n",
       "      <td>190.000000</td>\n",
       "      <td>3550.000000</td>\n",
       "      <td>2007.000000</td>\n",
       "    </tr>\n",
       "    <tr>\n",
       "      <th>50%</th>\n",
       "      <td>44.500000</td>\n",
       "      <td>17.300000</td>\n",
       "      <td>197.000000</td>\n",
       "      <td>4050.000000</td>\n",
       "      <td>2008.000000</td>\n",
       "    </tr>\n",
       "    <tr>\n",
       "      <th>75%</th>\n",
       "      <td>48.600000</td>\n",
       "      <td>18.700000</td>\n",
       "      <td>213.000000</td>\n",
       "      <td>4775.000000</td>\n",
       "      <td>2009.000000</td>\n",
       "    </tr>\n",
       "    <tr>\n",
       "      <th>max</th>\n",
       "      <td>59.600000</td>\n",
       "      <td>21.500000</td>\n",
       "      <td>231.000000</td>\n",
       "      <td>6300.000000</td>\n",
       "      <td>2009.000000</td>\n",
       "    </tr>\n",
       "  </tbody>\n",
       "</table>\n",
       "</div>"
      ],
      "text/plain": [
       "       bill_length_mm  bill_depth_mm  flipper_length_mm  body_mass_g  \\\n",
       "count      333.000000     333.000000         333.000000   333.000000   \n",
       "mean        43.992793      17.164865         200.966967  4207.057057   \n",
       "std          5.468668       1.969235          14.015765   805.215802   \n",
       "min         32.100000      13.100000         172.000000  2700.000000   \n",
       "25%         39.500000      15.600000         190.000000  3550.000000   \n",
       "50%         44.500000      17.300000         197.000000  4050.000000   \n",
       "75%         48.600000      18.700000         213.000000  4775.000000   \n",
       "max         59.600000      21.500000         231.000000  6300.000000   \n",
       "\n",
       "              year  \n",
       "count   333.000000  \n",
       "mean   2008.042042  \n",
       "std       0.812944  \n",
       "min    2007.000000  \n",
       "25%    2007.000000  \n",
       "50%    2008.000000  \n",
       "75%    2009.000000  \n",
       "max    2009.000000  "
      ]
     },
     "execution_count": 15,
     "metadata": {},
     "output_type": "execute_result"
    }
   ],
   "source": [
    "df.describe()"
   ]
  },
  {
   "cell_type": "markdown",
   "id": "2711635e-99da-41ae-9bc2-afbc70fa692c",
   "metadata": {},
   "source": [
    "Every thing is almost similar."
   ]
  },
  {
   "cell_type": "markdown",
   "id": "386e85e3-3a49-400c-8fd0-9de64c5c1ac0",
   "metadata": {},
   "source": [
    "## 2.6 Exctracting Numerical Values\n",
    "\n",
    "Extract the species as \"y\" and the 4 numerical columns and all rows as \"X\" into numpy arrays"
   ]
  },
  {
   "cell_type": "code",
   "execution_count": 16,
   "id": "8db993cd",
   "metadata": {},
   "outputs": [
    {
     "data": {
      "text/plain": [
       "array(['Adelie', 'Gentoo', 'Chinstrap'], dtype=object)"
      ]
     },
     "execution_count": 16,
     "metadata": {},
     "output_type": "execute_result"
    }
   ],
   "source": [
    "# Cheking for unique value in species\n",
    "df['species'].unique()"
   ]
  },
  {
   "cell_type": "code",
   "execution_count": 30,
   "id": "653633b2-e7e9-4d0f-ba51-4bb24bbd153f",
   "metadata": {},
   "outputs": [
    {
     "data": {
      "text/html": [
       "<div>\n",
       "<style scoped>\n",
       "    .dataframe tbody tr th:only-of-type {\n",
       "        vertical-align: middle;\n",
       "    }\n",
       "\n",
       "    .dataframe tbody tr th {\n",
       "        vertical-align: top;\n",
       "    }\n",
       "\n",
       "    .dataframe thead th {\n",
       "        text-align: right;\n",
       "    }\n",
       "</style>\n",
       "<table border=\"1\" class=\"dataframe\">\n",
       "  <thead>\n",
       "    <tr style=\"text-align: right;\">\n",
       "      <th></th>\n",
       "      <th>bill_length_mm</th>\n",
       "      <th>bill_depth_mm</th>\n",
       "      <th>flipper_length_mm</th>\n",
       "      <th>body_mass_g</th>\n",
       "    </tr>\n",
       "  </thead>\n",
       "  <tbody>\n",
       "    <tr>\n",
       "      <th>0</th>\n",
       "      <td>39.1</td>\n",
       "      <td>18.7</td>\n",
       "      <td>181.0</td>\n",
       "      <td>3750.0</td>\n",
       "    </tr>\n",
       "    <tr>\n",
       "      <th>1</th>\n",
       "      <td>39.5</td>\n",
       "      <td>17.4</td>\n",
       "      <td>186.0</td>\n",
       "      <td>3800.0</td>\n",
       "    </tr>\n",
       "    <tr>\n",
       "      <th>2</th>\n",
       "      <td>40.3</td>\n",
       "      <td>18.0</td>\n",
       "      <td>195.0</td>\n",
       "      <td>3250.0</td>\n",
       "    </tr>\n",
       "    <tr>\n",
       "      <th>4</th>\n",
       "      <td>36.7</td>\n",
       "      <td>19.3</td>\n",
       "      <td>193.0</td>\n",
       "      <td>3450.0</td>\n",
       "    </tr>\n",
       "    <tr>\n",
       "      <th>5</th>\n",
       "      <td>39.3</td>\n",
       "      <td>20.6</td>\n",
       "      <td>190.0</td>\n",
       "      <td>3650.0</td>\n",
       "    </tr>\n",
       "  </tbody>\n",
       "</table>\n",
       "</div>"
      ],
      "text/plain": [
       "   bill_length_mm  bill_depth_mm  flipper_length_mm  body_mass_g\n",
       "0            39.1           18.7              181.0       3750.0\n",
       "1            39.5           17.4              186.0       3800.0\n",
       "2            40.3           18.0              195.0       3250.0\n",
       "4            36.7           19.3              193.0       3450.0\n",
       "5            39.3           20.6              190.0       3650.0"
      ]
     },
     "execution_count": 30,
     "metadata": {},
     "output_type": "execute_result"
    }
   ],
   "source": [
    "# Extract y and X\n",
    "X = df.drop(['species','year','island','sex'], axis=1) #independent features\n",
    "y = df['species']\n",
    "X.head()"
   ]
  },
  {
   "cell_type": "markdown",
   "id": "1d15847b-e6cb-4ff2-a132-4591fd580c22",
   "metadata": {},
   "source": [
    "## 2.7 Split the data \n",
    "\n",
    "Split the data inot into training and test sets with 33% of the data for testing and random state 42."
   ]
  },
  {
   "cell_type": "code",
   "execution_count": 31,
   "id": "1457ebe3-58db-4b8a-9a1c-a860964ab83b",
   "metadata": {},
   "outputs": [],
   "source": [
    "# splitting data\n",
    "# Split the dataset and labels into training and test sets\n",
    "X_train, X_test, y_train, y_test = train_test_split(X, y, test_size=0.33, random_state=27)"
   ]
  },
  {
   "cell_type": "markdown",
   "id": "467c2203-5101-426e-ac0b-2626959e7aa7",
   "metadata": {},
   "source": [
    "## 2.8 Building the accuracies vs complexity \n",
    "\n",
    "1. Define two lists empty lists to store the accuracy scores for the training and test sets\n",
    "1. Set up a loop iterating through the values in the range of neighbors starting at 1 neighbor and going to 35 neighbors.\n",
    "1. For each value of \"K\", train a KNN classifier using the training data. \n",
    "1. Within the loop, for each value of \"K\", predict using the training data.\n",
    "1. Within the loop, for each value of \"K\", predict using the testing data.\n",
    "1. Within the loop, for each value of \"K\", compute the accuracy of the prediction against the training data (accuracy_score)\n",
    "1. Within the loop, for each value of \"K\", append to the training accuracies\n",
    "1. Within the loop, for each value of \"K\", compute the accuracy of the prediction against the testing data (accuracy_score)\n",
    "1. Within the loop, for each value of \"K\", append to the testing accuracies"
   ]
  },
  {
   "cell_type": "code",
   "execution_count": 32,
   "id": "20fffe3e-a081-4f02-853e-da82b8fcee0d",
   "metadata": {},
   "outputs": [],
   "source": [
    "train_accuracies = []\n",
    "test_accuracies = []\n",
    "\n",
    "# Creating the data for the train-test curves"
   ]
  },
  {
   "cell_type": "code",
   "execution_count": 33,
   "id": "45db81a5",
   "metadata": {},
   "outputs": [],
   "source": [
    "from sklearn.neighbors import KNeighborsClassifier\n",
    "\n",
    "neighbors = np.arange(1, 35)\n",
    "train_accuracy = np.empty(len(neighbors))\n",
    "test_accuracy = np.empty(len(neighbors))\n",
    "\n",
    "# Loop over K values\n",
    "for i, k in enumerate(neighbors):\n",
    "    knn = KNeighborsClassifier(n_neighbors=k)\n",
    "    knn.fit(X_train, y_train)"
   ]
  },
  {
   "cell_type": "code",
   "execution_count": 38,
   "id": "d94dbf72",
   "metadata": {},
   "outputs": [
    {
     "name": "stderr",
     "output_type": "stream",
     "text": [
      "C:\\Users\\sumai\\anaconda3\\New folder\\lib\\site-packages\\sklearn\\neighbors\\_classification.py:228: FutureWarning: Unlike other reduction functions (e.g. `skew`, `kurtosis`), the default behavior of `mode` typically preserves the axis it acts along. In SciPy 1.11.0, this behavior will change: the default value of `keepdims` will become False, the `axis` over which the statistic is taken will be eliminated, and the value None will no longer be accepted. Set `keepdims` to True or False to avoid this warning.\n",
      "  mode, _ = stats.mode(_y[neigh_ind, k], axis=1)\n",
      "C:\\Users\\sumai\\anaconda3\\New folder\\lib\\site-packages\\sklearn\\neighbors\\_classification.py:228: FutureWarning: Unlike other reduction functions (e.g. `skew`, `kurtosis`), the default behavior of `mode` typically preserves the axis it acts along. In SciPy 1.11.0, this behavior will change: the default value of `keepdims` will become False, the `axis` over which the statistic is taken will be eliminated, and the value None will no longer be accepted. Set `keepdims` to True or False to avoid this warning.\n",
      "  mode, _ = stats.mode(_y[neigh_ind, k], axis=1)\n"
     ]
    }
   ],
   "source": [
    "# Compute training and test data accuracy\n",
    "train_accuracy[i] = knn.score(X_train, y_train)\n",
    "test_accuracy[i] = knn.score(X_test, y_test)"
   ]
  },
  {
   "cell_type": "markdown",
   "id": "ab7b2a3a-bf7d-4d0c-8bc3-8537ef8e0b95",
   "metadata": {},
   "source": [
    "## 2.9 Graphing and Analyzing the train-test-accuracy curves\n",
    "\n",
    "1. Plot the values in the lists of training and test accuracies curves against the corresponding values in the range of neighbors from 1 to 35\n",
    "1. The curves should be in two different colors with a legend so we know which is training and which is testing.\n",
    "1. Make sure that the axis are labeled by the quanities and units shown on that axis.\n",
    "1. Make sure there is a title which says 'Training and Test Accuracies'"
   ]
  },
  {
   "cell_type": "code",
   "execution_count": 40,
   "id": "969621ae",
   "metadata": {},
   "outputs": [
    {
     "data": {
      "image/png": "[encoded data removed]",
      "text/plain": [
       "<Figure size 432x288 with 1 Axes>"
      ]
     },
     "metadata": {
      "needs_background": "light"
     },
     "output_type": "display_data"
    }
   ],
   "source": [
    "# Generate plot\n",
    "plt.plot(neighbors, test_accuracy, label = 'Testing dataset Accuracy')\n",
    "plt.plot(neighbors, train_accuracy, label = 'Training dataset Accuracy')\n",
    "  \n",
    "plt.legend()\n",
    "plt.xlabel('n_neighbors')\n",
    "plt.ylabel('Accuracy')\n",
    "plt.show()"
   ]
  },
  {
   "cell_type": "markdown",
   "id": "c8a9e7a2-838f-4735-bf9a-d4ff59b0f8b6",
   "metadata": {},
   "source": [
    "## 3.0 Explanation\n",
    "\n",
    "In this cell explain how the figure above reveals in terms of underfit and overfit. How many neighbors should we use?"
   ]
  },
  {
   "cell_type": "code",
   "execution_count": 5,
   "id": "9c8f374c-8a42-4030-95da-1c86f15ecbb1",
   "metadata": {},
   "outputs": [],
   "source": [
    "# Explain"
   ]
  },
  {
   "cell_type": "code",
   "execution_count": null,
   "id": "a9d578ee-ea98-46f1-b409-53b1a66232c4",
   "metadata": {},
   "outputs": [],
   "source": []
  }
 ],
 "metadata": {
  "kernelspec": {
   "display_name": "Python 3 (ipykernel)",
   "language": "python",
   "name": "python3"
  },
  "language_info": {
   "codemirror_mode": {
    "name": "ipython",
    "version": 3
   },
   "file_extension": ".py",
   "mimetype": "text/x-python",
   "name": "python",
   "nbconvert_exporter": "python",
   "pygments_lexer": "ipython3",
   "version": "3.9.12"
  }
 },
 "nbformat": 4,
 "nbformat_minor": 5
}
