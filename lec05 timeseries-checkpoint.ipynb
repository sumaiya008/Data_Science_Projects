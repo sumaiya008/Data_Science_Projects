{
 "cells": [
  {
   "cell_type": "code",
   "execution_count": 8,
   "id": "5640aff9-12e4-4179-882e-c0bd7840c9a9",
   "metadata": {},
   "outputs": [],
   "source": [
    "## Time Series\n"
   ]
  },
  {
   "cell_type": "code",
   "execution_count": 5,
   "id": "6c04487f-3068-4f3b-a84c-baaa614928fb",
   "metadata": {},
   "outputs": [],
   "source": [
    "import pandas as pd\n",
    "import numpy as np\n",
    "import matplotlib as mpl\n",
    "from matplotlib import pyplot as plt\n",
    "import seaborn as sns"
   ]
  },
  {
   "cell_type": "code",
   "execution_count": 3,
   "id": "41cc67d4-9f64-4e57-b9ca-70705bb7f96f",
   "metadata": {},
   "outputs": [
    {
     "data": {
      "text/plain": [
       "'1.2.5'"
      ]
     },
     "execution_count": 3,
     "metadata": {},
     "output_type": "execute_result"
    }
   ],
   "source": [
    "pd.__version__"
   ]
  },
  {
   "cell_type": "code",
   "execution_count": 6,
   "id": "eed423a9-6ad0-4d6b-a267-2d266da293e5",
   "metadata": {},
   "outputs": [],
   "source": [
    "ghcn = pd.read_csv('https://raw.githubusercontent.com/story645/ams_tutorials/master/data/nyc_2005_2015.csv')"
   ]
  },
  {
   "cell_type": "code",
   "execution_count": 7,
   "id": "51cf4841-542f-4f74-90e6-f1b4b87c3d7d",
   "metadata": {},
   "outputs": [
    {
     "data": {
      "text/html": [
       "<div>\n",
       "<style scoped>\n",
       "    .dataframe tbody tr th:only-of-type {\n",
       "        vertical-align: middle;\n",
       "    }\n",
       "\n",
       "    .dataframe tbody tr th {\n",
       "        vertical-align: top;\n",
       "    }\n",
       "\n",
       "    .dataframe thead th {\n",
       "        text-align: right;\n",
       "    }\n",
       "</style>\n",
       "<table border=\"1\" class=\"dataframe\">\n",
       "  <thead>\n",
       "    <tr style=\"text-align: right;\">\n",
       "      <th></th>\n",
       "      <th>STATION_NAME</th>\n",
       "      <th>DATE</th>\n",
       "      <th>EMXP</th>\n",
       "      <th>MXSD</th>\n",
       "      <th>TPCP</th>\n",
       "      <th>TSNW</th>\n",
       "      <th>EMXT</th>\n",
       "      <th>EMNT</th>\n",
       "      <th>MMXT</th>\n",
       "      <th>MMNT</th>\n",
       "      <th>MNTM</th>\n",
       "    </tr>\n",
       "  </thead>\n",
       "  <tbody>\n",
       "    <tr>\n",
       "      <th>0</th>\n",
       "      <td>NEW YORK J F KENNEDY INTERNATIONAL AIRPORT NY US</td>\n",
       "      <td>20050601</td>\n",
       "      <td>152</td>\n",
       "      <td>0</td>\n",
       "      <td>528</td>\n",
       "      <td>0</td>\n",
       "      <td>350</td>\n",
       "      <td>117</td>\n",
       "      <td>260</td>\n",
       "      <td>173</td>\n",
       "      <td>217</td>\n",
       "    </tr>\n",
       "    <tr>\n",
       "      <th>1</th>\n",
       "      <td>NEW YORK J F KENNEDY INTERNATIONAL AIRPORT NY US</td>\n",
       "      <td>20050701</td>\n",
       "      <td>439</td>\n",
       "      <td>0</td>\n",
       "      <td>1324</td>\n",
       "      <td>0</td>\n",
       "      <td>333</td>\n",
       "      <td>161</td>\n",
       "      <td>283</td>\n",
       "      <td>205</td>\n",
       "      <td>244</td>\n",
       "    </tr>\n",
       "    <tr>\n",
       "      <th>2</th>\n",
       "      <td>NEW YORK J F KENNEDY INTERNATIONAL AIRPORT NY US</td>\n",
       "      <td>20050801</td>\n",
       "      <td>104</td>\n",
       "      <td>0</td>\n",
       "      <td>148</td>\n",
       "      <td>0</td>\n",
       "      <td>356</td>\n",
       "      <td>178</td>\n",
       "      <td>300</td>\n",
       "      <td>215</td>\n",
       "      <td>257</td>\n",
       "    </tr>\n",
       "    <tr>\n",
       "      <th>3</th>\n",
       "      <td>NEW YORK J F KENNEDY INTERNATIONAL AIRPORT NY US</td>\n",
       "      <td>20050901</td>\n",
       "      <td>429</td>\n",
       "      <td>0</td>\n",
       "      <td>548</td>\n",
       "      <td>0</td>\n",
       "      <td>322</td>\n",
       "      <td>100</td>\n",
       "      <td>270</td>\n",
       "      <td>175</td>\n",
       "      <td>223</td>\n",
       "    </tr>\n",
       "    <tr>\n",
       "      <th>4</th>\n",
       "      <td>NEW YORK J F KENNEDY INTERNATIONAL AIRPORT NY US</td>\n",
       "      <td>20051001</td>\n",
       "      <td>1184</td>\n",
       "      <td>0</td>\n",
       "      <td>3803</td>\n",
       "      <td>0</td>\n",
       "      <td>244</td>\n",
       "      <td>33</td>\n",
       "      <td>177</td>\n",
       "      <td>108</td>\n",
       "      <td>142</td>\n",
       "    </tr>\n",
       "  </tbody>\n",
       "</table>\n",
       "</div>"
      ],
      "text/plain": [
       "                                       STATION_NAME      DATE  EMXP  MXSD  \\\n",
       "0  NEW YORK J F KENNEDY INTERNATIONAL AIRPORT NY US  20050601   152     0   \n",
       "1  NEW YORK J F KENNEDY INTERNATIONAL AIRPORT NY US  20050701   439     0   \n",
       "2  NEW YORK J F KENNEDY INTERNATIONAL AIRPORT NY US  20050801   104     0   \n",
       "3  NEW YORK J F KENNEDY INTERNATIONAL AIRPORT NY US  20050901   429     0   \n",
       "4  NEW YORK J F KENNEDY INTERNATIONAL AIRPORT NY US  20051001  1184     0   \n",
       "\n",
       "   TPCP  TSNW  EMXT  EMNT  MMXT  MMNT  MNTM  \n",
       "0   528     0   350   117   260   173   217  \n",
       "1  1324     0   333   161   283   205   244  \n",
       "2   148     0   356   178   300   215   257  \n",
       "3   548     0   322   100   270   175   223  \n",
       "4  3803     0   244    33   177   108   142  "
      ]
     },
     "execution_count": 7,
     "metadata": {},
     "output_type": "execute_result"
    }
   ],
   "source": [
    "ghcn.head()"
   ]
  },
  {
   "cell_type": "code",
   "execution_count": 9,
   "id": "68e9d7f8-3fbd-42f5-b8d8-a640b2697915",
   "metadata": {},
   "outputs": [
    {
     "name": "stdout",
     "output_type": "stream",
     "text": [
      "<class 'pandas.core.frame.DataFrame'>\n",
      "RangeIndex: 1625 entries, 0 to 1624\n",
      "Data columns (total 11 columns):\n",
      " #   Column        Non-Null Count  Dtype \n",
      "---  ------        --------------  ----- \n",
      " 0   STATION_NAME  1625 non-null   object\n",
      " 1   DATE          1625 non-null   int64 \n",
      " 2   EMXP          1625 non-null   int64 \n",
      " 3   MXSD          1625 non-null   int64 \n",
      " 4   TPCP          1625 non-null   int64 \n",
      " 5   TSNW          1625 non-null   int64 \n",
      " 6   EMXT          1625 non-null   int64 \n",
      " 7   EMNT          1625 non-null   int64 \n",
      " 8   MMXT          1625 non-null   int64 \n",
      " 9   MMNT          1625 non-null   int64 \n",
      " 10  MNTM          1625 non-null   int64 \n",
      "dtypes: int64(10), object(1)\n",
      "memory usage: 139.8+ KB\n"
     ]
    }
   ],
   "source": [
    "ghcn.info()"
   ]
  },
  {
   "cell_type": "code",
   "execution_count": 11,
   "id": "95c9272e-fda2-410c-b565-6211a64fca64",
   "metadata": {},
   "outputs": [],
   "source": [
    "cols = ghcn.columns"
   ]
  },
  {
   "cell_type": "code",
   "execution_count": 12,
   "id": "af16c55e-b9b4-40f7-a692-5b778ce9b3df",
   "metadata": {},
   "outputs": [
    {
     "data": {
      "text/html": [
       "<div>\n",
       "<style scoped>\n",
       "    .dataframe tbody tr th:only-of-type {\n",
       "        vertical-align: middle;\n",
       "    }\n",
       "\n",
       "    .dataframe tbody tr th {\n",
       "        vertical-align: top;\n",
       "    }\n",
       "\n",
       "    .dataframe thead th {\n",
       "        text-align: right;\n",
       "    }\n",
       "</style>\n",
       "<table border=\"1\" class=\"dataframe\">\n",
       "  <thead>\n",
       "    <tr style=\"text-align: right;\">\n",
       "      <th></th>\n",
       "      <th>DATE</th>\n",
       "      <th>EMXP</th>\n",
       "      <th>MXSD</th>\n",
       "      <th>TPCP</th>\n",
       "      <th>TSNW</th>\n",
       "      <th>EMXT</th>\n",
       "      <th>EMNT</th>\n",
       "      <th>MMXT</th>\n",
       "      <th>MMNT</th>\n",
       "      <th>MNTM</th>\n",
       "    </tr>\n",
       "  </thead>\n",
       "  <tbody>\n",
       "    <tr>\n",
       "      <th>count</th>\n",
       "      <td>1.625000e+03</td>\n",
       "      <td>1625.000000</td>\n",
       "      <td>1625.000000</td>\n",
       "      <td>1625.000000</td>\n",
       "      <td>1625.000000</td>\n",
       "      <td>1625.000000</td>\n",
       "      <td>1625.000000</td>\n",
       "      <td>1625.000000</td>\n",
       "      <td>1625.000000</td>\n",
       "      <td>1625.000000</td>\n",
       "    </tr>\n",
       "    <tr>\n",
       "      <th>mean</th>\n",
       "      <td>2.009903e+07</td>\n",
       "      <td>350.970462</td>\n",
       "      <td>-3895.414769</td>\n",
       "      <td>957.204923</td>\n",
       "      <td>-1833.057846</td>\n",
       "      <td>-2704.128615</td>\n",
       "      <td>-2874.129846</td>\n",
       "      <td>-2764.936000</td>\n",
       "      <td>-2825.930462</td>\n",
       "      <td>-2795.423385</td>\n",
       "    </tr>\n",
       "    <tr>\n",
       "      <th>std</th>\n",
       "      <td>2.654034e+04</td>\n",
       "      <td>520.722735</td>\n",
       "      <td>4909.468221</td>\n",
       "      <td>814.757100</td>\n",
       "      <td>3928.840691</td>\n",
       "      <td>4648.436400</td>\n",
       "      <td>4540.329046</td>\n",
       "      <td>4609.809287</td>\n",
       "      <td>4570.872183</td>\n",
       "      <td>4590.342377</td>\n",
       "    </tr>\n",
       "    <tr>\n",
       "      <th>min</th>\n",
       "      <td>2.005060e+07</td>\n",
       "      <td>-9999.000000</td>\n",
       "      <td>-9999.000000</td>\n",
       "      <td>-9999.000000</td>\n",
       "      <td>-9999.000000</td>\n",
       "      <td>-9999.000000</td>\n",
       "      <td>-9999.000000</td>\n",
       "      <td>-9999.000000</td>\n",
       "      <td>-9999.000000</td>\n",
       "      <td>-9999.000000</td>\n",
       "    </tr>\n",
       "    <tr>\n",
       "      <th>25%</th>\n",
       "      <td>2.008040e+07</td>\n",
       "      <td>206.000000</td>\n",
       "      <td>-9999.000000</td>\n",
       "      <td>551.000000</td>\n",
       "      <td>0.000000</td>\n",
       "      <td>-9999.000000</td>\n",
       "      <td>-9999.000000</td>\n",
       "      <td>-9999.000000</td>\n",
       "      <td>-9999.000000</td>\n",
       "      <td>-9999.000000</td>\n",
       "    </tr>\n",
       "    <tr>\n",
       "      <th>50%</th>\n",
       "      <td>2.010040e+07</td>\n",
       "      <td>305.000000</td>\n",
       "      <td>0.000000</td>\n",
       "      <td>879.000000</td>\n",
       "      <td>0.000000</td>\n",
       "      <td>200.000000</td>\n",
       "      <td>-56.000000</td>\n",
       "      <td>100.000000</td>\n",
       "      <td>19.000000</td>\n",
       "      <td>59.000000</td>\n",
       "    </tr>\n",
       "    <tr>\n",
       "      <th>75%</th>\n",
       "      <td>2.012070e+07</td>\n",
       "      <td>460.000000</td>\n",
       "      <td>0.000000</td>\n",
       "      <td>1250.000000</td>\n",
       "      <td>0.000000</td>\n",
       "      <td>306.000000</td>\n",
       "      <td>67.000000</td>\n",
       "      <td>226.000000</td>\n",
       "      <td>133.000000</td>\n",
       "      <td>179.000000</td>\n",
       "    </tr>\n",
       "    <tr>\n",
       "      <th>max</th>\n",
       "      <td>2.014120e+07</td>\n",
       "      <td>2443.000000</td>\n",
       "      <td>584.000000</td>\n",
       "      <td>4813.000000</td>\n",
       "      <td>1023.000000</td>\n",
       "      <td>539.000000</td>\n",
       "      <td>200.000000</td>\n",
       "      <td>336.000000</td>\n",
       "      <td>239.000000</td>\n",
       "      <td>282.000000</td>\n",
       "    </tr>\n",
       "  </tbody>\n",
       "</table>\n",
       "</div>"
      ],
      "text/plain": [
       "               DATE         EMXP         MXSD         TPCP         TSNW  \\\n",
       "count  1.625000e+03  1625.000000  1625.000000  1625.000000  1625.000000   \n",
       "mean   2.009903e+07   350.970462 -3895.414769   957.204923 -1833.057846   \n",
       "std    2.654034e+04   520.722735  4909.468221   814.757100  3928.840691   \n",
       "min    2.005060e+07 -9999.000000 -9999.000000 -9999.000000 -9999.000000   \n",
       "25%    2.008040e+07   206.000000 -9999.000000   551.000000     0.000000   \n",
       "50%    2.010040e+07   305.000000     0.000000   879.000000     0.000000   \n",
       "75%    2.012070e+07   460.000000     0.000000  1250.000000     0.000000   \n",
       "max    2.014120e+07  2443.000000   584.000000  4813.000000  1023.000000   \n",
       "\n",
       "              EMXT         EMNT         MMXT         MMNT         MNTM  \n",
       "count  1625.000000  1625.000000  1625.000000  1625.000000  1625.000000  \n",
       "mean  -2704.128615 -2874.129846 -2764.936000 -2825.930462 -2795.423385  \n",
       "std    4648.436400  4540.329046  4609.809287  4570.872183  4590.342377  \n",
       "min   -9999.000000 -9999.000000 -9999.000000 -9999.000000 -9999.000000  \n",
       "25%   -9999.000000 -9999.000000 -9999.000000 -9999.000000 -9999.000000  \n",
       "50%     200.000000   -56.000000   100.000000    19.000000    59.000000  \n",
       "75%     306.000000    67.000000   226.000000   133.000000   179.000000  \n",
       "max     539.000000   200.000000   336.000000   239.000000   282.000000  "
      ]
     },
     "execution_count": 12,
     "metadata": {},
     "output_type": "execute_result"
    }
   ],
   "source": [
    "ghcn.describe()"
   ]
  },
  {
   "cell_type": "code",
   "execution_count": 13,
   "id": "2b9d0650-8faf-4dfa-b4c8-911b8fa0004d",
   "metadata": {},
   "outputs": [
    {
     "data": {
      "text/html": [
       "<div>\n",
       "<style scoped>\n",
       "    .dataframe tbody tr th:only-of-type {\n",
       "        vertical-align: middle;\n",
       "    }\n",
       "\n",
       "    .dataframe tbody tr th {\n",
       "        vertical-align: top;\n",
       "    }\n",
       "\n",
       "    .dataframe thead th {\n",
       "        text-align: right;\n",
       "    }\n",
       "</style>\n",
       "<table border=\"1\" class=\"dataframe\">\n",
       "  <thead>\n",
       "    <tr style=\"text-align: right;\">\n",
       "      <th></th>\n",
       "      <th>MMNT</th>\n",
       "      <th>TSNW</th>\n",
       "    </tr>\n",
       "  </thead>\n",
       "  <tbody>\n",
       "    <tr>\n",
       "      <th>0</th>\n",
       "      <td>173</td>\n",
       "      <td>0</td>\n",
       "    </tr>\n",
       "    <tr>\n",
       "      <th>1</th>\n",
       "      <td>205</td>\n",
       "      <td>0</td>\n",
       "    </tr>\n",
       "    <tr>\n",
       "      <th>2</th>\n",
       "      <td>215</td>\n",
       "      <td>0</td>\n",
       "    </tr>\n",
       "    <tr>\n",
       "      <th>3</th>\n",
       "      <td>175</td>\n",
       "      <td>0</td>\n",
       "    </tr>\n",
       "    <tr>\n",
       "      <th>4</th>\n",
       "      <td>108</td>\n",
       "      <td>0</td>\n",
       "    </tr>\n",
       "  </tbody>\n",
       "</table>\n",
       "</div>"
      ],
      "text/plain": [
       "   MMNT  TSNW\n",
       "0   173     0\n",
       "1   205     0\n",
       "2   215     0\n",
       "3   175     0\n",
       "4   108     0"
      ]
     },
     "execution_count": 13,
     "metadata": {},
     "output_type": "execute_result"
    }
   ],
   "source": [
    "ghcn[['MMNT', 'TSNW']].head()"
   ]
  },
  {
   "cell_type": "code",
   "execution_count": 14,
   "id": "f3f18a2e-c4b8-4da8-9707-f4a593bafc37",
   "metadata": {},
   "outputs": [
    {
     "data": {
      "text/html": [
       "<div>\n",
       "<style scoped>\n",
       "    .dataframe tbody tr th:only-of-type {\n",
       "        vertical-align: middle;\n",
       "    }\n",
       "\n",
       "    .dataframe tbody tr th {\n",
       "        vertical-align: top;\n",
       "    }\n",
       "\n",
       "    .dataframe thead th {\n",
       "        text-align: right;\n",
       "    }\n",
       "</style>\n",
       "<table border=\"1\" class=\"dataframe\">\n",
       "  <thead>\n",
       "    <tr style=\"text-align: right;\">\n",
       "      <th></th>\n",
       "      <th>MMNT</th>\n",
       "      <th>TSNW</th>\n",
       "    </tr>\n",
       "  </thead>\n",
       "  <tbody>\n",
       "    <tr>\n",
       "      <th>5</th>\n",
       "      <td>48</td>\n",
       "      <td>0</td>\n",
       "    </tr>\n",
       "    <tr>\n",
       "      <th>7</th>\n",
       "      <td>-2</td>\n",
       "      <td>53</td>\n",
       "    </tr>\n",
       "    <tr>\n",
       "      <th>9</th>\n",
       "      <td>12</td>\n",
       "      <td>13</td>\n",
       "    </tr>\n",
       "    <tr>\n",
       "      <th>11</th>\n",
       "      <td>117</td>\n",
       "      <td>0</td>\n",
       "    </tr>\n",
       "    <tr>\n",
       "      <th>13</th>\n",
       "      <td>209</td>\n",
       "      <td>0</td>\n",
       "    </tr>\n",
       "  </tbody>\n",
       "</table>\n",
       "</div>"
      ],
      "text/plain": [
       "    MMNT  TSNW\n",
       "5     48     0\n",
       "7     -2    53\n",
       "9     12    13\n",
       "11   117     0\n",
       "13   209     0"
      ]
     },
     "execution_count": 14,
     "metadata": {},
     "output_type": "execute_result"
    }
   ],
   "source": [
    "ghcn[['MMNT', 'TSNW']][5:15:2]"
   ]
  },
  {
   "cell_type": "code",
   "execution_count": 17,
   "id": "19dbad4c-69cc-4e53-9504-e1dde820d073",
   "metadata": {},
   "outputs": [
    {
     "data": {
      "text/html": [
       "<div>\n",
       "<style scoped>\n",
       "    .dataframe tbody tr th:only-of-type {\n",
       "        vertical-align: middle;\n",
       "    }\n",
       "\n",
       "    .dataframe tbody tr th {\n",
       "        vertical-align: top;\n",
       "    }\n",
       "\n",
       "    .dataframe thead th {\n",
       "        text-align: right;\n",
       "    }\n",
       "</style>\n",
       "<table border=\"1\" class=\"dataframe\">\n",
       "  <thead>\n",
       "    <tr style=\"text-align: right;\">\n",
       "      <th></th>\n",
       "      <th>TSNW</th>\n",
       "      <th>EMXT</th>\n",
       "      <th>EMNT</th>\n",
       "      <th>MMXT</th>\n",
       "      <th>MMNT</th>\n",
       "    </tr>\n",
       "  </thead>\n",
       "  <tbody>\n",
       "    <tr>\n",
       "      <th>5</th>\n",
       "      <td>0</td>\n",
       "      <td>200</td>\n",
       "      <td>-56</td>\n",
       "      <td>134</td>\n",
       "      <td>48</td>\n",
       "    </tr>\n",
       "    <tr>\n",
       "      <th>7</th>\n",
       "      <td>53</td>\n",
       "      <td>167</td>\n",
       "      <td>-100</td>\n",
       "      <td>81</td>\n",
       "      <td>-2</td>\n",
       "    </tr>\n",
       "    <tr>\n",
       "      <th>9</th>\n",
       "      <td>13</td>\n",
       "      <td>217</td>\n",
       "      <td>-56</td>\n",
       "      <td>96</td>\n",
       "      <td>12</td>\n",
       "    </tr>\n",
       "    <tr>\n",
       "      <th>11</th>\n",
       "      <td>0</td>\n",
       "      <td>289</td>\n",
       "      <td>72</td>\n",
       "      <td>207</td>\n",
       "      <td>117</td>\n",
       "    </tr>\n",
       "    <tr>\n",
       "      <th>13</th>\n",
       "      <td>0</td>\n",
       "      <td>350</td>\n",
       "      <td>167</td>\n",
       "      <td>289</td>\n",
       "      <td>209</td>\n",
       "    </tr>\n",
       "    <tr>\n",
       "      <th>15</th>\n",
       "      <td>0</td>\n",
       "      <td>278</td>\n",
       "      <td>94</td>\n",
       "      <td>233</td>\n",
       "      <td>156</td>\n",
       "    </tr>\n",
       "  </tbody>\n",
       "</table>\n",
       "</div>"
      ],
      "text/plain": [
       "    TSNW  EMXT  EMNT  MMXT  MMNT\n",
       "5      0   200   -56   134    48\n",
       "7     53   167  -100    81    -2\n",
       "9     13   217   -56    96    12\n",
       "11     0   289    72   207   117\n",
       "13     0   350   167   289   209\n",
       "15     0   278    94   233   156"
      ]
     },
     "execution_count": 17,
     "metadata": {},
     "output_type": "execute_result"
    }
   ],
   "source": [
    "ghcn.loc[5:15:2, 'TSNW':'MMNT']"
   ]
  },
  {
   "cell_type": "code",
   "execution_count": 19,
   "id": "a654e60a-cae8-4308-9544-ff03800b2e67",
   "metadata": {},
   "outputs": [
    {
     "data": {
      "text/html": [
       "<div>\n",
       "<style scoped>\n",
       "    .dataframe tbody tr th:only-of-type {\n",
       "        vertical-align: middle;\n",
       "    }\n",
       "\n",
       "    .dataframe tbody tr th {\n",
       "        vertical-align: top;\n",
       "    }\n",
       "\n",
       "    .dataframe thead th {\n",
       "        text-align: right;\n",
       "    }\n",
       "</style>\n",
       "<table border=\"1\" class=\"dataframe\">\n",
       "  <thead>\n",
       "    <tr style=\"text-align: right;\">\n",
       "      <th></th>\n",
       "      <th>TSNW</th>\n",
       "      <th>EMXT</th>\n",
       "      <th>EMNT</th>\n",
       "      <th>MMXT</th>\n",
       "      <th>MMNT</th>\n",
       "    </tr>\n",
       "  </thead>\n",
       "  <tbody>\n",
       "    <tr>\n",
       "      <th>5</th>\n",
       "      <td>0</td>\n",
       "      <td>200</td>\n",
       "      <td>-56</td>\n",
       "      <td>134</td>\n",
       "      <td>48</td>\n",
       "    </tr>\n",
       "    <tr>\n",
       "      <th>7</th>\n",
       "      <td>53</td>\n",
       "      <td>167</td>\n",
       "      <td>-100</td>\n",
       "      <td>81</td>\n",
       "      <td>-2</td>\n",
       "    </tr>\n",
       "    <tr>\n",
       "      <th>9</th>\n",
       "      <td>13</td>\n",
       "      <td>217</td>\n",
       "      <td>-56</td>\n",
       "      <td>96</td>\n",
       "      <td>12</td>\n",
       "    </tr>\n",
       "    <tr>\n",
       "      <th>11</th>\n",
       "      <td>0</td>\n",
       "      <td>289</td>\n",
       "      <td>72</td>\n",
       "      <td>207</td>\n",
       "      <td>117</td>\n",
       "    </tr>\n",
       "    <tr>\n",
       "      <th>13</th>\n",
       "      <td>0</td>\n",
       "      <td>350</td>\n",
       "      <td>167</td>\n",
       "      <td>289</td>\n",
       "      <td>209</td>\n",
       "    </tr>\n",
       "  </tbody>\n",
       "</table>\n",
       "</div>"
      ],
      "text/plain": [
       "    TSNW  EMXT  EMNT  MMXT  MMNT\n",
       "5      0   200   -56   134    48\n",
       "7     53   167  -100    81    -2\n",
       "9     13   217   -56    96    12\n",
       "11     0   289    72   207   117\n",
       "13     0   350   167   289   209"
      ]
     },
     "execution_count": 19,
     "metadata": {},
     "output_type": "execute_result"
    }
   ],
   "source": [
    "ghcn.iloc[5:15:2, 5:10]"
   ]
  },
  {
   "cell_type": "code",
   "execution_count": 20,
   "id": "98741985-0108-430d-9e1e-68169c66315a",
   "metadata": {},
   "outputs": [
    {
     "data": {
      "text/plain": [
       "0    173\n",
       "1    205\n",
       "2    215\n",
       "3    175\n",
       "4    108\n",
       "Name: MMNT, dtype: int64"
      ]
     },
     "execution_count": 20,
     "metadata": {},
     "output_type": "execute_result"
    }
   ],
   "source": [
    "ghcn['MMNT'].head()"
   ]
  },
  {
   "cell_type": "code",
   "execution_count": 21,
   "id": "49257ddf-71e9-4942-afca-66572b0041f1",
   "metadata": {},
   "outputs": [
    {
     "data": {
      "text/plain": [
       "pandas.core.series.Series"
      ]
     },
     "execution_count": 21,
     "metadata": {},
     "output_type": "execute_result"
    }
   ],
   "source": [
    "type(ghcn['MMNT'])"
   ]
  },
  {
   "cell_type": "code",
   "execution_count": 23,
   "id": "ef564d72-3bc9-4ea8-90e2-bbe7d39a458f",
   "metadata": {},
   "outputs": [
    {
     "data": {
      "text/plain": [
       "(-9999, 239, -2825.9304615384617, 19.0)"
      ]
     },
     "execution_count": 23,
     "metadata": {},
     "output_type": "execute_result"
    }
   ],
   "source": [
    "ghcn['MMNT'].min(),ghcn['MMNT'].max(),ghcn['MMNT'].mean(),ghcn['MMNT'].median()"
   ]
  },
  {
   "cell_type": "code",
   "execution_count": 24,
   "id": "e20a5389-22b4-4372-aed0-f30473a9b974",
   "metadata": {},
   "outputs": [],
   "source": [
    "mmnt = pd.Series(ghcn['MMNT'])"
   ]
  },
  {
   "cell_type": "code",
   "execution_count": 30,
   "id": "aedebcc8-cfbd-4785-bf89-0f58015ac4a9",
   "metadata": {},
   "outputs": [],
   "source": [
    "mmnt[mmnt == -9999] = np.NaN"
   ]
  },
  {
   "cell_type": "code",
   "execution_count": 31,
   "id": "99371dfc-d646-408a-ab90-2df4aa196d78",
   "metadata": {},
   "outputs": [
    {
     "data": {
      "text/plain": [
       "(-83.0, 239.0, 84.25086505190312, 82.0)"
      ]
     },
     "execution_count": 31,
     "metadata": {},
     "output_type": "execute_result"
    }
   ],
   "source": [
    "mmnt.min(),mmnt.max(),mmnt.mean(),mmnt.median()"
   ]
  },
  {
   "cell_type": "code",
   "execution_count": 32,
   "id": "684e5662-0f13-4636-899b-4d7c54c60b7e",
   "metadata": {},
   "outputs": [],
   "source": [
    "ghcn.replace(-9999, np.nan, inplace=True)"
   ]
  },
  {
   "cell_type": "code",
   "execution_count": 33,
   "id": "34ae3fcf-84a3-4dd7-af7a-07736c9ecb76",
   "metadata": {},
   "outputs": [
    {
     "data": {
      "text/html": [
       "<div>\n",
       "<style scoped>\n",
       "    .dataframe tbody tr th:only-of-type {\n",
       "        vertical-align: middle;\n",
       "    }\n",
       "\n",
       "    .dataframe tbody tr th {\n",
       "        vertical-align: top;\n",
       "    }\n",
       "\n",
       "    .dataframe thead th {\n",
       "        text-align: right;\n",
       "    }\n",
       "</style>\n",
       "<table border=\"1\" class=\"dataframe\">\n",
       "  <thead>\n",
       "    <tr style=\"text-align: right;\">\n",
       "      <th></th>\n",
       "      <th>DATE</th>\n",
       "      <th>EMXP</th>\n",
       "      <th>MXSD</th>\n",
       "      <th>TPCP</th>\n",
       "      <th>TSNW</th>\n",
       "      <th>EMXT</th>\n",
       "      <th>EMNT</th>\n",
       "      <th>MMXT</th>\n",
       "      <th>MMNT</th>\n",
       "      <th>MNTM</th>\n",
       "    </tr>\n",
       "  </thead>\n",
       "  <tbody>\n",
       "    <tr>\n",
       "      <th>count</th>\n",
       "      <td>1.625000e+03</td>\n",
       "      <td>1622.000000</td>\n",
       "      <td>987.000000</td>\n",
       "      <td>1622.000000</td>\n",
       "      <td>1320.000000</td>\n",
       "      <td>1156.000000</td>\n",
       "      <td>1156.000000</td>\n",
       "      <td>1156.000000</td>\n",
       "      <td>1156.000000</td>\n",
       "      <td>1156.000000</td>\n",
       "    </tr>\n",
       "    <tr>\n",
       "      <th>mean</th>\n",
       "      <td>2.009903e+07</td>\n",
       "      <td>370.113440</td>\n",
       "      <td>49.962513</td>\n",
       "      <td>977.469174</td>\n",
       "      <td>53.769697</td>\n",
       "      <td>255.468858</td>\n",
       "      <td>16.496540</td>\n",
       "      <td>169.991349</td>\n",
       "      <td>84.250865</td>\n",
       "      <td>127.134948</td>\n",
       "    </tr>\n",
       "    <tr>\n",
       "      <th>std</th>\n",
       "      <td>2.654034e+04</td>\n",
       "      <td>270.251403</td>\n",
       "      <td>108.166236</td>\n",
       "      <td>665.199628</td>\n",
       "      <td>151.237483</td>\n",
       "      <td>82.013978</td>\n",
       "      <td>96.101295</td>\n",
       "      <td>90.428972</td>\n",
       "      <td>84.560433</td>\n",
       "      <td>87.190188</td>\n",
       "    </tr>\n",
       "    <tr>\n",
       "      <th>min</th>\n",
       "      <td>2.005060e+07</td>\n",
       "      <td>0.000000</td>\n",
       "      <td>0.000000</td>\n",
       "      <td>0.000000</td>\n",
       "      <td>0.000000</td>\n",
       "      <td>44.000000</td>\n",
       "      <td>-182.000000</td>\n",
       "      <td>-7.000000</td>\n",
       "      <td>-83.000000</td>\n",
       "      <td>-44.000000</td>\n",
       "    </tr>\n",
       "    <tr>\n",
       "      <th>25%</th>\n",
       "      <td>2.008040e+07</td>\n",
       "      <td>208.000000</td>\n",
       "      <td>0.000000</td>\n",
       "      <td>553.000000</td>\n",
       "      <td>0.000000</td>\n",
       "      <td>189.000000</td>\n",
       "      <td>-71.000000</td>\n",
       "      <td>87.750000</td>\n",
       "      <td>4.750000</td>\n",
       "      <td>47.000000</td>\n",
       "    </tr>\n",
       "    <tr>\n",
       "      <th>50%</th>\n",
       "      <td>2.010040e+07</td>\n",
       "      <td>305.000000</td>\n",
       "      <td>0.000000</td>\n",
       "      <td>880.500000</td>\n",
       "      <td>0.000000</td>\n",
       "      <td>269.500000</td>\n",
       "      <td>17.000000</td>\n",
       "      <td>176.000000</td>\n",
       "      <td>82.000000</td>\n",
       "      <td>128.000000</td>\n",
       "    </tr>\n",
       "    <tr>\n",
       "      <th>75%</th>\n",
       "      <td>2.012070e+07</td>\n",
       "      <td>460.000000</td>\n",
       "      <td>45.500000</td>\n",
       "      <td>1250.000000</td>\n",
       "      <td>5.000000</td>\n",
       "      <td>323.500000</td>\n",
       "      <td>100.000000</td>\n",
       "      <td>255.000000</td>\n",
       "      <td>165.000000</td>\n",
       "      <td>210.250000</td>\n",
       "    </tr>\n",
       "    <tr>\n",
       "      <th>max</th>\n",
       "      <td>2.014120e+07</td>\n",
       "      <td>2443.000000</td>\n",
       "      <td>584.000000</td>\n",
       "      <td>4813.000000</td>\n",
       "      <td>1023.000000</td>\n",
       "      <td>539.000000</td>\n",
       "      <td>200.000000</td>\n",
       "      <td>336.000000</td>\n",
       "      <td>239.000000</td>\n",
       "      <td>282.000000</td>\n",
       "    </tr>\n",
       "  </tbody>\n",
       "</table>\n",
       "</div>"
      ],
      "text/plain": [
       "               DATE         EMXP        MXSD         TPCP         TSNW  \\\n",
       "count  1.625000e+03  1622.000000  987.000000  1622.000000  1320.000000   \n",
       "mean   2.009903e+07   370.113440   49.962513   977.469174    53.769697   \n",
       "std    2.654034e+04   270.251403  108.166236   665.199628   151.237483   \n",
       "min    2.005060e+07     0.000000    0.000000     0.000000     0.000000   \n",
       "25%    2.008040e+07   208.000000    0.000000   553.000000     0.000000   \n",
       "50%    2.010040e+07   305.000000    0.000000   880.500000     0.000000   \n",
       "75%    2.012070e+07   460.000000   45.500000  1250.000000     5.000000   \n",
       "max    2.014120e+07  2443.000000  584.000000  4813.000000  1023.000000   \n",
       "\n",
       "              EMXT         EMNT         MMXT         MMNT         MNTM  \n",
       "count  1156.000000  1156.000000  1156.000000  1156.000000  1156.000000  \n",
       "mean    255.468858    16.496540   169.991349    84.250865   127.134948  \n",
       "std      82.013978    96.101295    90.428972    84.560433    87.190188  \n",
       "min      44.000000  -182.000000    -7.000000   -83.000000   -44.000000  \n",
       "25%     189.000000   -71.000000    87.750000     4.750000    47.000000  \n",
       "50%     269.500000    17.000000   176.000000    82.000000   128.000000  \n",
       "75%     323.500000   100.000000   255.000000   165.000000   210.250000  \n",
       "max     539.000000   200.000000   336.000000   239.000000   282.000000  "
      ]
     },
     "execution_count": 33,
     "metadata": {},
     "output_type": "execute_result"
    }
   ],
   "source": [
    "ghcn.describe()"
   ]
  },
  {
   "cell_type": "code",
   "execution_count": 35,
   "id": "c96a0d64-5259-4913-8580-32a6e36a2542",
   "metadata": {},
   "outputs": [
    {
     "data": {
      "text/plain": [
       "count    1156.000000\n",
       "mean       84.250865\n",
       "std        84.560433\n",
       "min       -83.000000\n",
       "25%         4.750000\n",
       "50%        82.000000\n",
       "75%       165.000000\n",
       "max       239.000000\n",
       "Name: MMNT, dtype: float64"
      ]
     },
     "execution_count": 35,
     "metadata": {},
     "output_type": "execute_result"
    }
   ],
   "source": [
    "ghcn['MMNT'].describe()"
   ]
  },
  {
   "cell_type": "code",
   "execution_count": 36,
   "id": "65fbd6a8-55b1-43a2-abbe-4302abb1dd36",
   "metadata": {},
   "outputs": [
    {
     "data": {
      "text/plain": [
       "<AxesSubplot:>"
      ]
     },
     "execution_count": 36,
     "metadata": {},
     "output_type": "execute_result"
    },
    {
     "data": {
      "image/png": "[encoded data removed]",
      "text/plain": [
       "<Figure size 432x288 with 1 Axes>"
      ]
     },
     "metadata": {
      "needs_background": "light"
     },
     "output_type": "display_data"
    }
   ],
   "source": [
    "ghcn['MMNT'].hist()"
   ]
  },
  {
   "cell_type": "code",
   "execution_count": 37,
   "id": "2316012f-63c2-44ff-85f6-0f23327c0b86",
   "metadata": {},
   "outputs": [
    {
     "data": {
      "text/plain": [
       "<AxesSubplot:>"
      ]
     },
     "execution_count": 37,
     "metadata": {},
     "output_type": "execute_result"
    },
    {
     "data": {
      "image/png": "[encoded data removed]",
      "text/plain": [
       "<Figure size 432x288 with 1 Axes>"
      ]
     },
     "metadata": {
      "needs_background": "light"
     },
     "output_type": "display_data"
    }
   ],
   "source": [
    "ghcn['MMNT'].hist()\n",
    "ghcn['MMXT'].hist()"
   ]
  },
  {
   "cell_type": "code",
   "execution_count": 40,
   "id": "9dba648c-ea57-41c0-826c-f22bab15edc6",
   "metadata": {},
   "outputs": [
    {
     "data": {
      "image/png": "[encoded data removed]",
      "text/plain": [
       "<Figure size 432x288 with 1 Axes>"
      ]
     },
     "metadata": {
      "needs_background": "light"
     },
     "output_type": "display_data"
    }
   ],
   "source": [
    "fig, ax = plt.subplots()\n",
    "_ = ghcn['MNTM'].hist(histtype='step', ax=ax, label='average')\n",
    "_ = ghcn['MMNT'].hist(histtype='step', ax=ax, label='min')\n",
    "_ = ghcn['MMXT'].hist(histtype='step', ax=ax, label='max')\n"
   ]
  },
  {
   "cell_type": "code",
   "execution_count": 41,
   "id": "8ca99973-61a8-4955-8dd8-0891a0d2f2a8",
   "metadata": {},
   "outputs": [
    {
     "data": {
      "image/png": "[encoded data removed]",
      "text/plain": [
       "<Figure size 432x288 with 1 Axes>"
      ]
     },
     "metadata": {
      "needs_background": "light"
     },
     "output_type": "display_data"
    }
   ],
   "source": [
    "fig, ax = plt.subplots()\n",
    "_ = ghcn['MNTM'].hist(histtype='step', ax=ax, label='average')\n",
    "_ = ghcn['MMNT'].hist(histtype='step', ax=ax, label='min')\n",
    "_ = ghcn['MMXT'].hist(histtype='step', ax=ax, label='max')\n",
    "_ = ax.legend(loc='upper left')"
   ]
  },
  {
   "cell_type": "code",
   "execution_count": 42,
   "id": "9cb7b4d0-663e-477e-a416-5a6b4991e34d",
   "metadata": {},
   "outputs": [
    {
     "data": {
      "image/png": "[encoded data removed]",
      "text/plain": [
       "<Figure size 432x288 with 1 Axes>"
      ]
     },
     "metadata": {
      "needs_background": "light"
     },
     "output_type": "display_data"
    }
   ],
   "source": [
    "fig, ax = plt.subplots()\n",
    "_ = ghcn['MNTM'].hist(histtype='step', ax=ax, label='average')\n",
    "_ = ghcn['MMNT'].hist(histtype='step', ax=ax, label='min')\n",
    "_ = ghcn['MMXT'].hist(histtype='step', ax=ax, label='max')\n",
    "_ = ax.legend(loc='upper left')\n",
    "_ = ax.set_title('Mean Monthly Temperetures')\n",
    "_ = ax.set_xlabel('Tenths of a degree calcius')\n",
    "_ = ax.set_ylabel('Frequency')\n",
    "_ = ax.grid(False)"
   ]
  },
  {
   "cell_type": "code",
   "execution_count": 44,
   "id": "5284996e-3d5d-4e11-8b96-c91e89804140",
   "metadata": {},
   "outputs": [
    {
     "data": {
      "image/png": "[encoded data removed]",
      "text/plain": [
       "<Figure size 864x288 with 2 Axes>"
      ]
     },
     "metadata": {
      "needs_background": "light"
     },
     "output_type": "display_data"
    }
   ],
   "source": [
    "fig, (ax1, ax2) = plt.subplots(figsize=(12,4), ncols=2)\n",
    "_ = ghcn[['MNTM','MMNT','MMXT']].plot.kde(ax=ax1)\n",
    "_ = ghcn[['MNTM','MMNT','MMXT']].boxplot(ax=ax2)\n"
   ]
  },
  {
   "cell_type": "code",
   "execution_count": 46,
   "id": "5f6bfb68-e1d8-4dc1-83ca-f3b78a16a24a",
   "metadata": {},
   "outputs": [
    {
     "data": {
      "text/plain": [
       "28"
      ]
     },
     "execution_count": 46,
     "metadata": {},
     "output_type": "execute_result"
    }
   ],
   "source": [
    "ghcn['STATION_NAME'].nunique()"
   ]
  },
  {
   "cell_type": "code",
   "execution_count": 47,
   "id": "acc9ee23-7982-470f-a7d4-d549ca84734c",
   "metadata": {},
   "outputs": [
    {
     "data": {
      "text/plain": [
       "FARMINGDALE REPUBLIC AIRPORT NY US                  121\n",
       "NEW YORK J F KENNEDY INTERNATIONAL AIRPORT NY US    121\n",
       "CENTERPORT NY US                                    121\n",
       "NEW YORK CENTRAL PARK OBS BELVEDERE TOWER NY US     121\n",
       "NEW YORK LAGUARDIA AIRPORT NY US                    121\n",
       "WESTCHESTER CO AIRPORT NY US                        121\n",
       "BRONX NY US                                         101\n",
       "MINEOLA NY US                                        83\n",
       "DOBBS FERRY ARDSLEY NY US                            83\n",
       "WANTAGH CEDAR CREEK NY US                            83\n",
       "FLORAL PARK 0.4 W NY US                              81\n",
       "STATEN ISLAND 4.5 SSE NY US                          60\n",
       "OCEANSIDE NY US                                      57\n",
       "LEVITTOWN 0.2 E NY US                                54\n",
       "STATEN ISLAND 1.4 SE NY US                           41\n",
       "MIDDLE VILLAGE 0.5 SW NY US                          39\n",
       "NEW ROCHELLE 1.3 S NY US                             35\n",
       "WEST NYACK 1.3 WSW NY US                             31\n",
       "WHITE PLAINS 3.1 NNW NY US                           29\n",
       "SPRING VALLEY 1.7 N NY US                            26\n",
       "NEW YORK NY US                                       23\n",
       "BETHPAGE 0.9 NNW NY US                               17\n",
       "BROOKLYN 3.1 NW NY US                                14\n",
       "NANUET 0.3 E NY US                                   13\n",
       "CHESTNUT RIDGE 0.3 SSW NY US                          9\n",
       "MILL NECK 1.1 SW NY US                                7\n",
       "BROOKLYN 2.4 SW NY US                                 7\n",
       "HARRISON 4.1 SSW NY US                                6\n",
       "Name: STATION_NAME, dtype: int64"
      ]
     },
     "execution_count": 47,
     "metadata": {},
     "output_type": "execute_result"
    }
   ],
   "source": [
    "ghcn['STATION_NAME'].value_counts()"
   ]
  },
  {
   "cell_type": "code",
   "execution_count": 48,
   "id": "3431a425-2102-442a-9201-3e230b1674bc",
   "metadata": {},
   "outputs": [
    {
     "data": {
      "text/plain": [
       "<AxesSubplot:>"
      ]
     },
     "execution_count": 48,
     "metadata": {},
     "output_type": "execute_result"
    },
    {
     "data": {
      "image/png": "[encoded data removed]",
      "text/plain": [
       "<Figure size 432x288 with 1 Axes>"
      ]
     },
     "metadata": {
      "needs_background": "light"
     },
     "output_type": "display_data"
    }
   ],
   "source": [
    "ghcn['STATION_NAME'].value_counts().plot.bar()"
   ]
  },
  {
   "cell_type": "code",
   "execution_count": 51,
   "id": "46ab7507-130c-4654-ae26-e9da25f97823",
   "metadata": {},
   "outputs": [
    {
     "data": {
      "text/html": [
       "<div>\n",
       "<style scoped>\n",
       "    .dataframe tbody tr th:only-of-type {\n",
       "        vertical-align: middle;\n",
       "    }\n",
       "\n",
       "    .dataframe tbody tr th {\n",
       "        vertical-align: top;\n",
       "    }\n",
       "\n",
       "    .dataframe thead th {\n",
       "        text-align: right;\n",
       "    }\n",
       "</style>\n",
       "<table border=\"1\" class=\"dataframe\">\n",
       "  <thead>\n",
       "    <tr style=\"text-align: right;\">\n",
       "      <th></th>\n",
       "      <th>STATION_NAME</th>\n",
       "      <th>DATE</th>\n",
       "      <th>EMXP</th>\n",
       "      <th>MXSD</th>\n",
       "      <th>TPCP</th>\n",
       "      <th>TSNW</th>\n",
       "      <th>EMXT</th>\n",
       "      <th>EMNT</th>\n",
       "      <th>MMXT</th>\n",
       "      <th>MMNT</th>\n",
       "      <th>MNTM</th>\n",
       "    </tr>\n",
       "  </thead>\n",
       "  <tbody>\n",
       "    <tr>\n",
       "      <th>67</th>\n",
       "      <td>HARRISON 4.1 SSW NY US</td>\n",
       "      <td>20090801</td>\n",
       "      <td>414.0</td>\n",
       "      <td>NaN</td>\n",
       "      <td>1427.0</td>\n",
       "      <td>0.0</td>\n",
       "      <td>NaN</td>\n",
       "      <td>NaN</td>\n",
       "      <td>NaN</td>\n",
       "      <td>NaN</td>\n",
       "      <td>NaN</td>\n",
       "    </tr>\n",
       "    <tr>\n",
       "      <th>68</th>\n",
       "      <td>HARRISON 4.1 SSW NY US</td>\n",
       "      <td>20090901</td>\n",
       "      <td>185.0</td>\n",
       "      <td>NaN</td>\n",
       "      <td>636.0</td>\n",
       "      <td>0.0</td>\n",
       "      <td>NaN</td>\n",
       "      <td>NaN</td>\n",
       "      <td>NaN</td>\n",
       "      <td>NaN</td>\n",
       "      <td>NaN</td>\n",
       "    </tr>\n",
       "    <tr>\n",
       "      <th>69</th>\n",
       "      <td>HARRISON 4.1 SSW NY US</td>\n",
       "      <td>20091001</td>\n",
       "      <td>287.0</td>\n",
       "      <td>NaN</td>\n",
       "      <td>1426.0</td>\n",
       "      <td>0.0</td>\n",
       "      <td>NaN</td>\n",
       "      <td>NaN</td>\n",
       "      <td>NaN</td>\n",
       "      <td>NaN</td>\n",
       "      <td>NaN</td>\n",
       "    </tr>\n",
       "    <tr>\n",
       "      <th>70</th>\n",
       "      <td>HARRISON 4.1 SSW NY US</td>\n",
       "      <td>20091101</td>\n",
       "      <td>74.0</td>\n",
       "      <td>NaN</td>\n",
       "      <td>205.0</td>\n",
       "      <td>0.0</td>\n",
       "      <td>NaN</td>\n",
       "      <td>NaN</td>\n",
       "      <td>NaN</td>\n",
       "      <td>NaN</td>\n",
       "      <td>NaN</td>\n",
       "    </tr>\n",
       "    <tr>\n",
       "      <th>71</th>\n",
       "      <td>HARRISON 4.1 SSW NY US</td>\n",
       "      <td>20091201</td>\n",
       "      <td>277.0</td>\n",
       "      <td>165.0</td>\n",
       "      <td>1597.0</td>\n",
       "      <td>163.0</td>\n",
       "      <td>NaN</td>\n",
       "      <td>NaN</td>\n",
       "      <td>NaN</td>\n",
       "      <td>NaN</td>\n",
       "      <td>NaN</td>\n",
       "    </tr>\n",
       "    <tr>\n",
       "      <th>921</th>\n",
       "      <td>HARRISON 4.1 SSW NY US</td>\n",
       "      <td>20101001</td>\n",
       "      <td>0.0</td>\n",
       "      <td>NaN</td>\n",
       "      <td>0.0</td>\n",
       "      <td>0.0</td>\n",
       "      <td>NaN</td>\n",
       "      <td>NaN</td>\n",
       "      <td>NaN</td>\n",
       "      <td>NaN</td>\n",
       "      <td>NaN</td>\n",
       "    </tr>\n",
       "  </tbody>\n",
       "</table>\n",
       "</div>"
      ],
      "text/plain": [
       "               STATION_NAME      DATE   EMXP   MXSD    TPCP   TSNW  EMXT  \\\n",
       "67   HARRISON 4.1 SSW NY US  20090801  414.0    NaN  1427.0    0.0   NaN   \n",
       "68   HARRISON 4.1 SSW NY US  20090901  185.0    NaN   636.0    0.0   NaN   \n",
       "69   HARRISON 4.1 SSW NY US  20091001  287.0    NaN  1426.0    0.0   NaN   \n",
       "70   HARRISON 4.1 SSW NY US  20091101   74.0    NaN   205.0    0.0   NaN   \n",
       "71   HARRISON 4.1 SSW NY US  20091201  277.0  165.0  1597.0  163.0   NaN   \n",
       "921  HARRISON 4.1 SSW NY US  20101001    0.0    NaN     0.0    0.0   NaN   \n",
       "\n",
       "     EMNT  MMXT  MMNT  MNTM  \n",
       "67    NaN   NaN   NaN   NaN  \n",
       "68    NaN   NaN   NaN   NaN  \n",
       "69    NaN   NaN   NaN   NaN  \n",
       "70    NaN   NaN   NaN   NaN  \n",
       "71    NaN   NaN   NaN   NaN  \n",
       "921   NaN   NaN   NaN   NaN  "
      ]
     },
     "execution_count": 51,
     "metadata": {},
     "output_type": "execute_result"
    }
   ],
   "source": [
    "ghcn[ghcn['STATION_NAME'].str.contains('HARRISON')]"
   ]
  },
  {
   "cell_type": "code",
   "execution_count": 52,
   "id": "fb6725df-1e4a-4952-b03d-c20754197e56",
   "metadata": {},
   "outputs": [
    {
     "data": {
      "image/png": "[encoded data removed]",
      "text/plain": [
       "<Figure size 432x288 with 1 Axes>"
      ]
     },
     "metadata": {
      "needs_background": "light"
     },
     "output_type": "display_data"
    }
   ],
   "source": [
    "g=sns.boxplot(y='MNTM', x='STATION_NAME', data=ghcn, order=ghcn['STATION_NAME'].value_counts().keys())"
   ]
  },
  {
   "cell_type": "code",
   "execution_count": 54,
   "id": "e2c601a3-62b2-4622-b91c-1d0bc473193d",
   "metadata": {},
   "outputs": [
    {
     "data": {
      "image/png": "[encoded data removed]",
      "text/plain": [
       "<Figure size 432x288 with 1 Axes>"
      ]
     },
     "metadata": {
      "needs_background": "light"
     },
     "output_type": "display_data"
    }
   ],
   "source": [
    "g=sns.boxplot(y='MNTM', x='STATION_NAME', data=ghcn, order=ghcn['STATION_NAME'].value_counts().keys())\n",
    "_ = g.set_xticklabels(g.get_xticklabels(), rotation=90)"
   ]
  },
  {
   "cell_type": "code",
   "execution_count": 56,
   "id": "fd47758b-422c-4532-b8f0-014b58ab1c86",
   "metadata": {},
   "outputs": [
    {
     "data": {
      "text/plain": [
       "0    20050601\n",
       "1    20050701\n",
       "2    20050801\n",
       "3    20050901\n",
       "4    20051001\n",
       "Name: DATE, dtype: int64"
      ]
     },
     "execution_count": 56,
     "metadata": {},
     "output_type": "execute_result"
    }
   ],
   "source": [
    "ghcn['DATE'].head()"
   ]
  },
  {
   "cell_type": "code",
   "execution_count": 58,
   "id": "19421b4b-2440-47cb-a755-500b85aea485",
   "metadata": {},
   "outputs": [
    {
     "data": {
      "text/plain": [
       "numpy.int64"
      ]
     },
     "execution_count": 58,
     "metadata": {},
     "output_type": "execute_result"
    }
   ],
   "source": [
    "type(ghcn['DATE'][0])"
   ]
  },
  {
   "cell_type": "code",
   "execution_count": 64,
   "id": "22adfa27-2659-4e72-945d-7f8a46edcc3c",
   "metadata": {},
   "outputs": [
    {
     "data": {
      "text/plain": [
       "0      2005-06-01\n",
       "1      2005-07-01\n",
       "2      2005-08-01\n",
       "3      2005-09-01\n",
       "4      2005-10-01\n",
       "          ...    \n",
       "1620   2011-08-01\n",
       "1621   2011-09-01\n",
       "1622   2011-10-01\n",
       "1623   2011-11-01\n",
       "1624   2011-12-01\n",
       "Name: DATE, Length: 1625, dtype: datetime64[ns]"
      ]
     },
     "execution_count": 64,
     "metadata": {},
     "output_type": "execute_result"
    }
   ],
   "source": [
    "pd.to_datetime(ghcn['DATE'], format='%Y%m%d')"
   ]
  },
  {
   "cell_type": "code",
   "execution_count": 66,
   "id": "2afa626b-dbc3-4004-aff9-197bd9baf43c",
   "metadata": {},
   "outputs": [],
   "source": [
    "ghcn['DATE'] = pd.to_datetime(ghcn['DATE'], format='%Y%m%d')"
   ]
  },
  {
   "cell_type": "code",
   "execution_count": 67,
   "id": "bf2affad-caae-4843-9f4c-38611b4d0561",
   "metadata": {},
   "outputs": [
    {
     "data": {
      "text/html": [
       "<div>\n",
       "<style scoped>\n",
       "    .dataframe tbody tr th:only-of-type {\n",
       "        vertical-align: middle;\n",
       "    }\n",
       "\n",
       "    .dataframe tbody tr th {\n",
       "        vertical-align: top;\n",
       "    }\n",
       "\n",
       "    .dataframe thead th {\n",
       "        text-align: right;\n",
       "    }\n",
       "</style>\n",
       "<table border=\"1\" class=\"dataframe\">\n",
       "  <thead>\n",
       "    <tr style=\"text-align: right;\">\n",
       "      <th></th>\n",
       "      <th>STATION_NAME</th>\n",
       "      <th>DATE</th>\n",
       "      <th>EMXP</th>\n",
       "      <th>MXSD</th>\n",
       "      <th>TPCP</th>\n",
       "      <th>TSNW</th>\n",
       "      <th>EMXT</th>\n",
       "      <th>EMNT</th>\n",
       "      <th>MMXT</th>\n",
       "      <th>MMNT</th>\n",
       "      <th>MNTM</th>\n",
       "    </tr>\n",
       "  </thead>\n",
       "  <tbody>\n",
       "    <tr>\n",
       "      <th>0</th>\n",
       "      <td>NEW YORK J F KENNEDY INTERNATIONAL AIRPORT NY US</td>\n",
       "      <td>2005-06-01</td>\n",
       "      <td>152.0</td>\n",
       "      <td>0.0</td>\n",
       "      <td>528.0</td>\n",
       "      <td>0.0</td>\n",
       "      <td>350.0</td>\n",
       "      <td>117.0</td>\n",
       "      <td>260.0</td>\n",
       "      <td>173.0</td>\n",
       "      <td>217.0</td>\n",
       "    </tr>\n",
       "    <tr>\n",
       "      <th>1</th>\n",
       "      <td>NEW YORK J F KENNEDY INTERNATIONAL AIRPORT NY US</td>\n",
       "      <td>2005-07-01</td>\n",
       "      <td>439.0</td>\n",
       "      <td>0.0</td>\n",
       "      <td>1324.0</td>\n",
       "      <td>0.0</td>\n",
       "      <td>333.0</td>\n",
       "      <td>161.0</td>\n",
       "      <td>283.0</td>\n",
       "      <td>205.0</td>\n",
       "      <td>244.0</td>\n",
       "    </tr>\n",
       "    <tr>\n",
       "      <th>2</th>\n",
       "      <td>NEW YORK J F KENNEDY INTERNATIONAL AIRPORT NY US</td>\n",
       "      <td>2005-08-01</td>\n",
       "      <td>104.0</td>\n",
       "      <td>0.0</td>\n",
       "      <td>148.0</td>\n",
       "      <td>0.0</td>\n",
       "      <td>356.0</td>\n",
       "      <td>178.0</td>\n",
       "      <td>300.0</td>\n",
       "      <td>215.0</td>\n",
       "      <td>257.0</td>\n",
       "    </tr>\n",
       "    <tr>\n",
       "      <th>3</th>\n",
       "      <td>NEW YORK J F KENNEDY INTERNATIONAL AIRPORT NY US</td>\n",
       "      <td>2005-09-01</td>\n",
       "      <td>429.0</td>\n",
       "      <td>0.0</td>\n",
       "      <td>548.0</td>\n",
       "      <td>0.0</td>\n",
       "      <td>322.0</td>\n",
       "      <td>100.0</td>\n",
       "      <td>270.0</td>\n",
       "      <td>175.0</td>\n",
       "      <td>223.0</td>\n",
       "    </tr>\n",
       "    <tr>\n",
       "      <th>4</th>\n",
       "      <td>NEW YORK J F KENNEDY INTERNATIONAL AIRPORT NY US</td>\n",
       "      <td>2005-10-01</td>\n",
       "      <td>1184.0</td>\n",
       "      <td>0.0</td>\n",
       "      <td>3803.0</td>\n",
       "      <td>0.0</td>\n",
       "      <td>244.0</td>\n",
       "      <td>33.0</td>\n",
       "      <td>177.0</td>\n",
       "      <td>108.0</td>\n",
       "      <td>142.0</td>\n",
       "    </tr>\n",
       "  </tbody>\n",
       "</table>\n",
       "</div>"
      ],
      "text/plain": [
       "                                       STATION_NAME       DATE    EMXP  MXSD  \\\n",
       "0  NEW YORK J F KENNEDY INTERNATIONAL AIRPORT NY US 2005-06-01   152.0   0.0   \n",
       "1  NEW YORK J F KENNEDY INTERNATIONAL AIRPORT NY US 2005-07-01   439.0   0.0   \n",
       "2  NEW YORK J F KENNEDY INTERNATIONAL AIRPORT NY US 2005-08-01   104.0   0.0   \n",
       "3  NEW YORK J F KENNEDY INTERNATIONAL AIRPORT NY US 2005-09-01   429.0   0.0   \n",
       "4  NEW YORK J F KENNEDY INTERNATIONAL AIRPORT NY US 2005-10-01  1184.0   0.0   \n",
       "\n",
       "     TPCP  TSNW   EMXT   EMNT   MMXT   MMNT   MNTM  \n",
       "0   528.0   0.0  350.0  117.0  260.0  173.0  217.0  \n",
       "1  1324.0   0.0  333.0  161.0  283.0  205.0  244.0  \n",
       "2   148.0   0.0  356.0  178.0  300.0  215.0  257.0  \n",
       "3   548.0   0.0  322.0  100.0  270.0  175.0  223.0  \n",
       "4  3803.0   0.0  244.0   33.0  177.0  108.0  142.0  "
      ]
     },
     "execution_count": 67,
     "metadata": {},
     "output_type": "execute_result"
    }
   ],
   "source": [
    "ghcn.head()"
   ]
  },
  {
   "cell_type": "code",
   "execution_count": 71,
   "id": "ea94ce68-30bc-4360-9769-eb7bbbdf0aa0",
   "metadata": {},
   "outputs": [
    {
     "name": "stdout",
     "output_type": "stream",
     "text": [
      "NEW YORK J F KENNEDY INTERNATIONAL AIRPORT NY US\n",
      "WHITE PLAINS 3.1 NNW NY US\n",
      "HARRISON 4.1 SSW NY US\n",
      "NEW YORK LAGUARDIA AIRPORT NY US\n",
      "FARMINGDALE REPUBLIC AIRPORT NY US\n",
      "CHESTNUT RIDGE 0.3 SSW NY US\n",
      "NANUET 0.3 E NY US\n",
      "SPRING VALLEY 1.7 N NY US\n",
      "NEW YORK CENTRAL PARK OBS BELVEDERE TOWER NY US\n",
      "BETHPAGE 0.9 NNW NY US\n",
      "CENTERPORT NY US\n",
      "LEVITTOWN 0.2 E NY US\n",
      "MILL NECK 1.1 SW NY US\n",
      "FLORAL PARK 0.4 W NY US\n",
      "WESTCHESTER CO AIRPORT NY US\n",
      "NEW YORK NY US\n",
      "OCEANSIDE NY US\n",
      "STATEN ISLAND 4.5 SSE NY US\n",
      "BROOKLYN 2.4 SW NY US\n",
      "DOBBS FERRY ARDSLEY NY US\n",
      "MINEOLA NY US\n",
      "BRONX NY US\n",
      "WANTAGH CEDAR CREEK NY US\n",
      "NEW ROCHELLE 1.3 S NY US\n",
      "WEST NYACK 1.3 WSW NY US\n",
      "MIDDLE VILLAGE 0.5 SW NY US\n",
      "STATEN ISLAND 1.4 SE NY US\n",
      "BROOKLYN 3.1 NW NY US\n"
     ]
    }
   ],
   "source": [
    "print('\\n'.join(list(ghcn['STATION_NAME'].unique())))"
   ]
  },
  {
   "cell_type": "code",
   "execution_count": 72,
   "id": "7bbae5ac-c5a5-4830-b2b3-c7665c7e6dc9",
   "metadata": {},
   "outputs": [],
   "source": [
    "stations = dict(list(ghcn.groupby('STATION_NAME')))"
   ]
  },
  {
   "cell_type": "code",
   "execution_count": 73,
   "id": "3c96aab9-5305-4033-ba3e-b37d27b44cd6",
   "metadata": {},
   "outputs": [
    {
     "data": {
      "text/plain": [
       "dict_keys(['BETHPAGE 0.9 NNW NY US', 'BRONX NY US', 'BROOKLYN 2.4 SW NY US', 'BROOKLYN 3.1 NW NY US', 'CENTERPORT NY US', 'CHESTNUT RIDGE 0.3 SSW NY US', 'DOBBS FERRY ARDSLEY NY US', 'FARMINGDALE REPUBLIC AIRPORT NY US', 'FLORAL PARK 0.4 W NY US', 'HARRISON 4.1 SSW NY US', 'LEVITTOWN 0.2 E NY US', 'MIDDLE VILLAGE 0.5 SW NY US', 'MILL NECK 1.1 SW NY US', 'MINEOLA NY US', 'NANUET 0.3 E NY US', 'NEW ROCHELLE 1.3 S NY US', 'NEW YORK CENTRAL PARK OBS BELVEDERE TOWER NY US', 'NEW YORK J F KENNEDY INTERNATIONAL AIRPORT NY US', 'NEW YORK LAGUARDIA AIRPORT NY US', 'NEW YORK NY US', 'OCEANSIDE NY US', 'SPRING VALLEY 1.7 N NY US', 'STATEN ISLAND 1.4 SE NY US', 'STATEN ISLAND 4.5 SSE NY US', 'WANTAGH CEDAR CREEK NY US', 'WEST NYACK 1.3 WSW NY US', 'WESTCHESTER CO AIRPORT NY US', 'WHITE PLAINS 3.1 NNW NY US'])"
      ]
     },
     "execution_count": 73,
     "metadata": {},
     "output_type": "execute_result"
    }
   ],
   "source": [
    "stations.keys()"
   ]
  },
  {
   "cell_type": "code",
   "execution_count": 74,
   "id": "b4527aab-45fb-4a4e-9e1a-2a33bde84a74",
   "metadata": {},
   "outputs": [],
   "source": [
    "cp_df =stations['NEW YORK CENTRAL PARK OBS BELVEDERE TOWER NY US']"
   ]
  },
  {
   "cell_type": "code",
   "execution_count": 75,
   "id": "d37e1fa9-0c6e-4e24-ad9a-cb150adc7c9e",
   "metadata": {},
   "outputs": [
    {
     "data": {
      "text/html": [
       "<div>\n",
       "<style scoped>\n",
       "    .dataframe tbody tr th:only-of-type {\n",
       "        vertical-align: middle;\n",
       "    }\n",
       "\n",
       "    .dataframe tbody tr th {\n",
       "        vertical-align: top;\n",
       "    }\n",
       "\n",
       "    .dataframe thead th {\n",
       "        text-align: right;\n",
       "    }\n",
       "</style>\n",
       "<table border=\"1\" class=\"dataframe\">\n",
       "  <thead>\n",
       "    <tr style=\"text-align: right;\">\n",
       "      <th></th>\n",
       "      <th>STATION_NAME</th>\n",
       "      <th>DATE</th>\n",
       "      <th>EMXP</th>\n",
       "      <th>MXSD</th>\n",
       "      <th>TPCP</th>\n",
       "      <th>TSNW</th>\n",
       "      <th>EMXT</th>\n",
       "      <th>EMNT</th>\n",
       "      <th>MMXT</th>\n",
       "      <th>MMNT</th>\n",
       "      <th>MNTM</th>\n",
       "    </tr>\n",
       "  </thead>\n",
       "  <tbody>\n",
       "    <tr>\n",
       "      <th>216</th>\n",
       "      <td>NEW YORK CENTRAL PARK OBS BELVEDERE TOWER NY US</td>\n",
       "      <td>2005-06-01</td>\n",
       "      <td>150.0</td>\n",
       "      <td>0.0</td>\n",
       "      <td>815.0</td>\n",
       "      <td>0.0</td>\n",
       "      <td>339.0</td>\n",
       "      <td>122.0</td>\n",
       "      <td>279.0</td>\n",
       "      <td>188.0</td>\n",
       "      <td>233.0</td>\n",
       "    </tr>\n",
       "    <tr>\n",
       "      <th>217</th>\n",
       "      <td>NEW YORK CENTRAL PARK OBS BELVEDERE TOWER NY US</td>\n",
       "      <td>2005-07-01</td>\n",
       "      <td>386.0</td>\n",
       "      <td>0.0</td>\n",
       "      <td>906.0</td>\n",
       "      <td>0.0</td>\n",
       "      <td>361.0</td>\n",
       "      <td>167.0</td>\n",
       "      <td>294.0</td>\n",
       "      <td>212.0</td>\n",
       "      <td>253.0</td>\n",
       "    </tr>\n",
       "    <tr>\n",
       "      <th>218</th>\n",
       "      <td>NEW YORK CENTRAL PARK OBS BELVEDERE TOWER NY US</td>\n",
       "      <td>2005-08-01</td>\n",
       "      <td>787.0</td>\n",
       "      <td>0.0</td>\n",
       "      <td>1007.0</td>\n",
       "      <td>0.0</td>\n",
       "      <td>372.0</td>\n",
       "      <td>183.0</td>\n",
       "      <td>306.0</td>\n",
       "      <td>223.0</td>\n",
       "      <td>265.0</td>\n",
       "    </tr>\n",
       "    <tr>\n",
       "      <th>219</th>\n",
       "      <td>NEW YORK CENTRAL PARK OBS BELVEDERE TOWER NY US</td>\n",
       "      <td>2005-09-01</td>\n",
       "      <td>43.0</td>\n",
       "      <td>0.0</td>\n",
       "      <td>121.0</td>\n",
       "      <td>0.0</td>\n",
       "      <td>333.0</td>\n",
       "      <td>100.0</td>\n",
       "      <td>276.0</td>\n",
       "      <td>183.0</td>\n",
       "      <td>229.0</td>\n",
       "    </tr>\n",
       "    <tr>\n",
       "      <th>220</th>\n",
       "      <td>NEW YORK CENTRAL PARK OBS BELVEDERE TOWER NY US</td>\n",
       "      <td>2005-10-01</td>\n",
       "      <td>1082.0</td>\n",
       "      <td>0.0</td>\n",
       "      <td>4250.0</td>\n",
       "      <td>0.0</td>\n",
       "      <td>267.0</td>\n",
       "      <td>39.0</td>\n",
       "      <td>176.0</td>\n",
       "      <td>111.0</td>\n",
       "      <td>144.0</td>\n",
       "    </tr>\n",
       "  </tbody>\n",
       "</table>\n",
       "</div>"
      ],
      "text/plain": [
       "                                        STATION_NAME       DATE    EMXP  MXSD  \\\n",
       "216  NEW YORK CENTRAL PARK OBS BELVEDERE TOWER NY US 2005-06-01   150.0   0.0   \n",
       "217  NEW YORK CENTRAL PARK OBS BELVEDERE TOWER NY US 2005-07-01   386.0   0.0   \n",
       "218  NEW YORK CENTRAL PARK OBS BELVEDERE TOWER NY US 2005-08-01   787.0   0.0   \n",
       "219  NEW YORK CENTRAL PARK OBS BELVEDERE TOWER NY US 2005-09-01    43.0   0.0   \n",
       "220  NEW YORK CENTRAL PARK OBS BELVEDERE TOWER NY US 2005-10-01  1082.0   0.0   \n",
       "\n",
       "       TPCP  TSNW   EMXT   EMNT   MMXT   MMNT   MNTM  \n",
       "216   815.0   0.0  339.0  122.0  279.0  188.0  233.0  \n",
       "217   906.0   0.0  361.0  167.0  294.0  212.0  253.0  \n",
       "218  1007.0   0.0  372.0  183.0  306.0  223.0  265.0  \n",
       "219   121.0   0.0  333.0  100.0  276.0  183.0  229.0  \n",
       "220  4250.0   0.0  267.0   39.0  176.0  111.0  144.0  "
      ]
     },
     "execution_count": 75,
     "metadata": {},
     "output_type": "execute_result"
    }
   ],
   "source": [
    "cp_df.head()"
   ]
  },
  {
   "cell_type": "code",
   "execution_count": 76,
   "id": "b2a84f7a-d573-404a-958f-e39e8ea1914a",
   "metadata": {},
   "outputs": [
    {
     "data": {
      "text/plain": [
       "<AxesSubplot:>"
      ]
     },
     "execution_count": 76,
     "metadata": {},
     "output_type": "execute_result"
    },
    {
     "data": {
      "image/png": "[encoded data removed]",
      "text/plain": [
       "<Figure size 432x288 with 1 Axes>"
      ]
     },
     "metadata": {
      "needs_background": "light"
     },
     "output_type": "display_data"
    }
   ],
   "source": [
    "cp_df.plot()"
   ]
  },
  {
   "cell_type": "code",
   "execution_count": 77,
   "id": "c25b4042-b338-4e10-b799-68d4990f39b9",
   "metadata": {},
   "outputs": [
    {
     "data": {
      "text/plain": [
       "<AxesSubplot:>"
      ]
     },
     "execution_count": 77,
     "metadata": {},
     "output_type": "execute_result"
    },
    {
     "data": {
      "image/png": "[encoded data removed]",
      "text/plain": [
       "<Figure size 432x288 with 1 Axes>"
      ]
     },
     "metadata": {
      "needs_background": "light"
     },
     "output_type": "display_data"
    }
   ],
   "source": [
    "cp_df['MNTM'].plot()"
   ]
  },
  {
   "cell_type": "code",
   "execution_count": 79,
   "id": "683f89c3-41ad-433c-8a25-c515c8abb126",
   "metadata": {},
   "outputs": [],
   "source": [
    "cp_df = cp_df[['MNTM','DATE']].set_index('DATE')"
   ]
  },
  {
   "cell_type": "code",
   "execution_count": 82,
   "id": "fb91e4f4-3a60-4c3c-9ccd-5a597afbfca5",
   "metadata": {},
   "outputs": [
    {
     "data": {
      "text/html": [
       "<div>\n",
       "<style scoped>\n",
       "    .dataframe tbody tr th:only-of-type {\n",
       "        vertical-align: middle;\n",
       "    }\n",
       "\n",
       "    .dataframe tbody tr th {\n",
       "        vertical-align: top;\n",
       "    }\n",
       "\n",
       "    .dataframe thead th {\n",
       "        text-align: right;\n",
       "    }\n",
       "</style>\n",
       "<table border=\"1\" class=\"dataframe\">\n",
       "  <thead>\n",
       "    <tr style=\"text-align: right;\">\n",
       "      <th></th>\n",
       "      <th>MNTM</th>\n",
       "    </tr>\n",
       "    <tr>\n",
       "      <th>DATE</th>\n",
       "      <th></th>\n",
       "    </tr>\n",
       "  </thead>\n",
       "  <tbody>\n",
       "    <tr>\n",
       "      <th>2005-06-01</th>\n",
       "      <td>233.0</td>\n",
       "    </tr>\n",
       "    <tr>\n",
       "      <th>2005-07-01</th>\n",
       "      <td>253.0</td>\n",
       "    </tr>\n",
       "    <tr>\n",
       "      <th>2005-08-01</th>\n",
       "      <td>265.0</td>\n",
       "    </tr>\n",
       "    <tr>\n",
       "      <th>2005-09-01</th>\n",
       "      <td>229.0</td>\n",
       "    </tr>\n",
       "    <tr>\n",
       "      <th>2005-10-01</th>\n",
       "      <td>144.0</td>\n",
       "    </tr>\n",
       "  </tbody>\n",
       "</table>\n",
       "</div>"
      ],
      "text/plain": [
       "             MNTM\n",
       "DATE             \n",
       "2005-06-01  233.0\n",
       "2005-07-01  253.0\n",
       "2005-08-01  265.0\n",
       "2005-09-01  229.0\n",
       "2005-10-01  144.0"
      ]
     },
     "execution_count": 82,
     "metadata": {},
     "output_type": "execute_result"
    }
   ],
   "source": [
    "cp_df.head()"
   ]
  },
  {
   "cell_type": "code",
   "execution_count": 83,
   "id": "8848598d-7abf-40d6-88c1-b8c0332fd58f",
   "metadata": {},
   "outputs": [
    {
     "data": {
      "image/png": "[encoded data removed]",
      "text/plain": [
       "<Figure size 432x288 with 1 Axes>"
      ]
     },
     "metadata": {
      "needs_background": "light"
     },
     "output_type": "display_data"
    }
   ],
   "source": [
    "_ = cp_df.plot()"
   ]
  },
  {
   "cell_type": "code",
   "execution_count": null,
   "id": "92ab7ae8-c7fe-43b0-9914-dedd1749c352",
   "metadata": {},
   "outputs": [],
   "source": [
    "ax = pd.plotting.lag_plot(cpd['MNTM'],lag=1"
   ]
  }
 ],
 "metadata": {
  "kernelspec": {
   "display_name": "Python 3 (ipykernel)",
   "language": "python",
   "name": "python3"
  },
  "language_info": {
   "codemirror_mode": {
    "name": "ipython",
    "version": 3
   },
   "file_extension": ".py",
   "mimetype": "text/x-python",
   "name": "python",
   "nbconvert_exporter": "python",
   "pygments_lexer": "ipython3",
   "version": "3.9.12"
  }
 },
 "nbformat": 4,
 "nbformat_minor": 5
}
