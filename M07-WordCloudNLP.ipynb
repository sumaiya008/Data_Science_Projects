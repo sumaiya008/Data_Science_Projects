{
 "cells": [
  {
   "cell_type": "code",
   "execution_count": 9,
   "id": "ce9be483",
   "metadata": {},
   "outputs": [
    {
     "name": "stdout",
     "output_type": "stream",
     "text": [
      "Collecting package metadata (current_repodata.json): done\n",
      "Solving environment: done\n",
      "\n",
      "# All requested packages already installed.\n",
      "\n",
      "Collecting package metadata (current_repodata.json): done\n",
      "Solving environment: done\n",
      "\n",
      "## Package Plan ##\n",
      "\n",
      "  environment location: /opt/tljh/user\n",
      "\n",
      "  added / updated specs:\n",
      "    - wordcloud\n",
      "\n",
      "\n",
      "The following packages will be downloaded:\n",
      "\n",
      "    package                    |            build\n",
      "    ---------------------------|-----------------\n",
      "    wordcloud-1.8.1            |   py37h5e8e339_1         189 KB  conda-forge\n",
      "    ------------------------------------------------------------\n",
      "                                           Total:         189 KB\n",
      "\n",
      "The following NEW packages will be INSTALLED:\n",
      "\n",
      "  wordcloud          conda-forge/linux-64::wordcloud-1.8.1-py37h5e8e339_1\n",
      "\n",
      "\n",
      "\n",
      "Downloading and Extracting Packages\n",
      "wordcloud-1.8.1      | 189 KB    | ##################################### | 100% \n",
      "Preparing transaction: done\n",
      "Verifying transaction: failed\n",
      "\n",
      "EnvironmentNotWritableError: The current user does not have write permissions to the target environment.\n",
      "  environment location: /opt/tljh/user\n",
      "  uid: 1006\n",
      "  gid: 1008\n",
      "\n",
      "\n"
     ]
    }
   ],
   "source": [
    "!conda install -y nltk -c conda-forge\n",
    "!conda install -y wordcloud -c conda-forge"
   ]
  },
  {
   "cell_type": "code",
   "execution_count": 30,
   "id": "81637efb",
   "metadata": {},
   "outputs": [],
   "source": [
    "import numpy as np\n",
    "import pandas as pd\n",
    "from pandas import DataFrame, Series, read_csv\n",
    "import matplotlib.pyplot as plt\n",
    "import matplotlib as mpl\n",
    "import requests\n",
    "import nltk\n",
    "from nltk.corpus import stopwords # Make stopwords available\n",
    "from wordcloud import WordCloud # Make word cloud images\n",
    "%matplotlib inline\n",
    "mpl.style.use('ggplot')\n",
    "mpl.rcParams['figure.figsize'] = (10, 6)"
   ]
  },
  {
   "cell_type": "code",
   "execution_count": 37,
   "id": "4a0fd5f6",
   "metadata": {},
   "outputs": [
    {
     "name": "stdout",
     "output_type": "stream",
     "text": [
      "ï»¿The Project Gutenberg EBook of Treasure Island, by Robert Louis Stevenson\r\n",
      "\r\n",
      "This eBook is for the use of anyone anywhere in the United States and most\r\n",
      "other parts of the world at no cost and with almost no restrictions\r\n",
      "whatsoever.  You may copy\n"
     ]
    }
   ],
   "source": [
    "gutenberg_root = 'http://www.gutenberg.org/files/'\n",
    "ti_url = ''.join([gutenberg_root,'120/120-0.txt'])\n",
    "jh_url = ''.join([gutenberg_root,'43/43-0.txt'])\n",
    "md_url = ''.join([gutenberg_root,'2701/2701-0.txt'])\n",
    "req = requests.get(ti_url)\n",
    "print(req.text[:250])"
   ]
  },
  {
   "cell_type": "code",
   "execution_count": 17,
   "id": "1a420c52",
   "metadata": {},
   "outputs": [
    {
     "data": {
      "text/plain": [
       "'TREASURE ISLAND ***\\r\\n\\r\\n\\r\\n\\r\\n\\r\\nProduced by Judy Boss, John Hamm, Arthur DiBianca and David Widger\\r\\n\\r\\n\\r\\n\\r\\n\\r\\nTREASURE ISLAND\\r\\n\\r\\nby Robert Louis Stevenson\\r\\n\\r\\n\\r\\n\\r\\n\\r\\nTREASURE ISLAND\\r\\n\\r\\nTo S.L.O., an American gentleman in accordance with whose classic taste\\r'"
      ]
     },
     "execution_count": 17,
     "metadata": {},
     "output_type": "execute_result"
    }
   ],
   "source": [
    "ti_text = (req.text.split(\n",
    "          'START OF THIS PROJECT GUTENBERG EBOOK'))[-1]\n",
    "ti_text = ti_text.strip()\n",
    "ti_text[:250]"
   ]
  },
  {
   "cell_type": "code",
   "execution_count": 20,
   "id": "ffb931d5",
   "metadata": {},
   "outputs": [
    {
     "data": {
      "text/plain": [
       "'TREASURE ISLAND\\n\\nby Robert Louis Stevenson\\n\\n\\n\\n\\nTREASURE ISLAND\\n\\nTo S.L.O., an American gentleman in accordance with whose classic taste\\nthe following narrative has been designed, it is now, in return for\\nnumerous delightful hours, and with the kindes'"
      ]
     },
     "execution_count": 20,
     "metadata": {},
     "output_type": "execute_result"
    }
   ],
   "source": [
    "ti_text = (req.text.split(\n",
    "          'START OF THIS PROJECT GUTENBERG EBOOK'))[-1]\n",
    "ti_text = '\\n'.join(ti_text.split('\\r\\n')[6:])\n",
    "ti_text = ti_text.strip()\n",
    "ti_text[:250]"
   ]
  },
  {
   "cell_type": "code",
   "execution_count": 51,
   "id": "da3fe0a5",
   "metadata": {},
   "outputs": [],
   "source": [
    "def remove_gutenberg_header(book_string):\n",
    "    book_text = (book_string.split(\n",
    "              'START OF THIS PROJECT GUTENBERG EBOOK'))[-1]\n",
    "    book_text = '\\n'.join(book_text.split('\\r\\n')[8:])\n",
    "    book_text = book_text.strip()\n",
    "    return book_text"
   ]
  },
  {
   "cell_type": "code",
   "execution_count": 52,
   "id": "aa9e06a9",
   "metadata": {},
   "outputs": [],
   "source": [
    "ti_text = remove_gutenberg_header(req.text)[:250]"
   ]
  },
  {
   "cell_type": "code",
   "execution_count": 53,
   "id": "3da0fa65",
   "metadata": {},
   "outputs": [
    {
     "name": "stdout",
     "output_type": "stream",
     "text": [
      "ti TREASURE ISLAND\n",
      "\n",
      "by Robert Louis Stevenson\n",
      "\n",
      "\n",
      "\n",
      "\n",
      "TREASURE ISLAND\n",
      "\n",
      "To S.L.O., an American gentleman in accordance with whose classic taste\n",
      "the following narrative has been designed, it is now, in return for\n",
      "numerous delightful hours, and with the kindes\n",
      "jh using this eBook.\n",
      "\n",
      "Title: The Strange Case Of Dr. Jekyll And Mr. Hyde\n",
      "\n",
      "Author: Robert Louis Stevenson\n",
      "\n",
      "Release Date: October 31, 1992 [eBook #43]\n",
      "[Most recently updated: March 19, 2021]\n",
      "\n",
      "Language: English\n",
      "\n",
      "Character set encoding: UTF-8\n",
      "\n",
      "Produced by: \n",
      "md using this eBook.\n",
      "\n",
      "Title: Moby-Dick; or The Whale\n",
      "\n",
      "Author: Herman Melville\n",
      "\n",
      "Release Date: June, 2001 [eBook #2701]\n",
      "[Most recently updated: August 18, 2021]\n",
      "\n",
      "Language: English\n",
      "\n",
      "Character set encoding: UTF-8\n",
      "\n",
      "Produced by: Daniel Lazarus, Jonesey, and D\n"
     ]
    }
   ],
   "source": [
    "books = {}\n",
    "\n",
    "for book, url in [('ti', ti_url), ('jh',jh_url), ('md',md_url)]:\n",
    "    books[book]=remove_gutenberg_header(requests.get(url).text)\n",
    "    print(book, books[book][:250])"
   ]
  },
  {
   "cell_type": "code",
   "execution_count": 35,
   "id": "238d4d96",
   "metadata": {},
   "outputs": [
    {
     "data": {
      "text/plain": [
       "['www', 'gutenberg', 'org', 'if', 'you', 'are', 'not', 'located']"
      ]
     },
     "execution_count": 35,
     "metadata": {},
     "output_type": "execute_result"
    }
   ],
   "source": [
    "# Creating a tokenizer\n",
    "tokenizer = nltk.tokenize.RegexpTokenizer('\\w+')\n",
    "\n",
    "# Tokenizing the text\n",
    "ti_tokens = tokenizer.tokenize(books['ti'])\n",
    "ti_words = [word.lower() for word in ti_tokens]\n",
    "ti_words[:8]"
   ]
  },
  {
   "cell_type": "code",
   "execution_count": null,
   "id": "b1cbf651",
   "metadata": {},
   "outputs": [],
   "source": []
  }
 ],
 "metadata": {
  "kernelspec": {
   "display_name": "Python 3 (ipykernel)",
   "language": "python",
   "name": "python3"
  },
  "language_info": {
   "codemirror_mode": {
    "name": "ipython",
    "version": 3
   },
   "file_extension": ".py",
   "mimetype": "text/x-python",
   "name": "python",
   "nbconvert_exporter": "python",
   "pygments_lexer": "ipython3",
   "version": "3.7.11"
  }
 },
 "nbformat": 4,
 "nbformat_minor": 5
}
