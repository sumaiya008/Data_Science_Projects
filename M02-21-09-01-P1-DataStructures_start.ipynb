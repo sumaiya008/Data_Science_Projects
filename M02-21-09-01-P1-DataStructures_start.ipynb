{
 "cells": [
  {
   "cell_type": "markdown",
   "metadata": {},
   "source": [
    "# Data Structures\n",
    "\n",
    "There are many ways to store data in a computer's memory, or on a disk. Think of arranging books on a shelf.\n",
    "\n",
    "* How would you arrange them if you wanted to look up a book by title?\n",
    "* How would you arrange them if you wanted to look up a book by author?\n",
    "* How would you arrange them if you wanted to get to a book by question you were thinking of?\n",
    "* How easy would it be to find a book by title if they were arranged to make it easy to find by author?\n",
    "\n",
    "Each data structure arranges data to make some tasks easier and others harder. Typically a data structure which makes one task the most easy will make others pretty difficult. There are data structures which are compromises that make no tasks very easy but nothing very hard.\n",
    "\n",
    "Also, sometimes you worry about space as a resource, and sometimes you worry about time. \n",
    "\n",
    "* If you had lots of money and lots of space how could you make it easy to look up a book by title or author as fast as possible?\n",
    "* If you had minimal money and very little space but time wasn't a problem how would you arrange the books to look up a book by title or author?"
   ]
  },
  {
   "cell_type": "markdown",
   "metadata": {},
   "source": [
    "## Types of Data Structures\n",
    "\n",
    "There are many types of data structures. We can also look at data structures two ways.\n",
    "\n",
    "  Abstract Data Structures: What we can do with them\n",
    "  \n",
    "  Data Structure Implementations: How they are built\n",
    "\n",
    "I will give you some references so you can study 2 in your free time. We will have some homeworks that have you implement a couple of data structures. Right now I want to talk more about 1. We will talk about some data structures that are very common and what there advantages are. Here is a list of some important ones:\n",
    "\n",
    "1. Arrays\n",
    "2. Link List\n",
    "3. Stacks and Queues\n",
    "4. Key-Value stores\n",
    "5. Trees\n",
    "6. Composite"
   ]
  },
  {
   "cell_type": "markdown",
   "metadata": {},
   "source": [
    "## Arrays\n",
    "\n",
    "An array is a fixed length set of fixed size boxes. Each box can store something of the same type, which means the same width. We think of strings this way:\n",
    "\n",
    "| H  | e  | l  | l  | o  | __ | W  | o  | r  | l  | d  | !  |\n",
    "|----|----|----|----|----|----|----|----|----|----|----|----|\n",
    "| 0  |  1 | 2  |  3 |  4 |  5 |  6 |  7 |  8 |  9 | 10 | 11 |\n",
    "\n",
    "Where each character is a byte, really a number from 0-255. We can give this array a name. Lets call it barray:"
   ]
  },
  {
   "cell_type": "markdown",
   "metadata": {},
   "source": [
    "### Numpy Arrays\n",
    "\n",
    "A good example of an array data structure is a numpy array. "
   ]
  },
  {
   "cell_type": "markdown",
   "metadata": {},
   "source": [
    "**Question 1:** How can we expand the array so we can add more items at the end?"
   ]
  },
  {
   "cell_type": "code",
   "execution_count": null,
   "metadata": {},
   "outputs": [],
   "source": []
  },
  {
   "cell_type": "markdown",
   "metadata": {},
   "source": [
    "**Question 2:** How can we delete the third element from the middle of the array?"
   ]
  },
  {
   "cell_type": "code",
   "execution_count": null,
   "metadata": {},
   "outputs": [],
   "source": []
  },
  {
   "cell_type": "markdown",
   "metadata": {},
   "source": [
    "**Question 3:** How can we insert an element between the 4th and 5th element of the array?"
   ]
  },
  {
   "cell_type": "markdown",
   "metadata": {},
   "source": [
    "## Stacks and Queues\n",
    "\n",
    "A key part of an array is that it is a fixed size. As we saw, we can only insert or delete elements (which changes the size) by creating a new array. Lets turn to data structures whose key features are that they change size dynamically.\n",
    "\n",
    "### Stacks\n",
    "\n",
    "A key practical problem is keeping a list of changes so we can undo. Lets thing of a simple thing. We have a string and every time we change it, we want to store that change. We only care about \"undos\" and we don't need to index arbitrarily or \"redo\". Lets say we have this sequence of edits:\n",
    "\n",
    "* 'H'\n",
    "* 'He'\n",
    "* 'Hel'\n",
    "* 'Hell'\n",
    "* 'Hellp'\n",
    "* 'Hell'\n",
    "* 'Hello'\n",
    "\n",
    "So we want to store these in a way that each time we edit we can save. We call this \"push\". And each time we want to go back to the previous edit we can get the last version. We call this \"pop\". Push will expand the data structure to accommodate the new item. Pop will shrink the data structure as we remove one item.\n",
    "\n",
    "We will use python classes and python lists to make this."
   ]
  },
  {
   "cell_type": "code",
   "execution_count": null,
   "metadata": {},
   "outputs": [],
   "source": []
  },
  {
   "cell_type": "markdown",
   "metadata": {},
   "source": [
    "Yes ... I know we are cheating here with python lists. Python lists are not arrays, and not stacks. They are one of those complex data structures that are compromises in order to do many things pretty well. There are also python tuples which are closer to arrays but still different. We will say a few words later but I will give you references if you like."
   ]
  },
  {
   "cell_type": "markdown",
   "metadata": {},
   "source": [
    "**Note 1:** We use the '_data' to indicate a private variable. People using our \"Stack\" class should never reference '_data' or any method/variable starting with a '_'. Unlike Java or C++ Python doesn't block dev from accessing private data (for example for debugging). It is just never make it into production code."
   ]
  },
  {
   "cell_type": "markdown",
   "metadata": {},
   "source": [
    "**Note 2:** If you heard about stacks before, you might know that you put data and take data off the top of the stack. You might think that should be '_data[0]', ie. the first element. Here it is the last element.  "
   ]
  },
  {
   "cell_type": "code",
   "execution_count": null,
   "metadata": {},
   "outputs": [],
   "source": []
  },
  {
   "cell_type": "markdown",
   "metadata": {},
   "source": [
    "**Question 1:** How do we iterate though the stack using only push and pop non-destructively?"
   ]
  },
  {
   "cell_type": "code",
   "execution_count": null,
   "metadata": {},
   "outputs": [],
   "source": []
  },
  {
   "cell_type": "markdown",
   "metadata": {},
   "source": [
    "**Question 2:** How do we add a function to a stack to index into it using only push and pop non-destructively?"
   ]
  },
  {
   "cell_type": "code",
   "execution_count": null,
   "metadata": {},
   "outputs": [],
   "source": []
  },
  {
   "cell_type": "markdown",
   "metadata": {},
   "source": [
    "### Queues\n",
    "\n",
    "When we think about waiting in a line at the post office, the last person on the line is not the first person to get served (or shouldn't be) like a stack. Just like a stack you take things off the top list of the list. Only in a queue you add things to the end of the list. Since we already have \"pop\" using the last element as the \"top\" of the list, all we need to change is make the first element the \"bottom\" of the list."
   ]
  },
  {
   "cell_type": "markdown",
   "metadata": {},
   "source": [
    "**Question 1:** How can we implement a queue class similar to stack? \n",
    "\n",
    "Hint: If s is a list then 's.insert(i, item)' inserts 'item' at index 'i'"
   ]
  },
  {
   "cell_type": "code",
   "execution_count": null,
   "metadata": {},
   "outputs": [],
   "source": []
  },
  {
   "cell_type": "markdown",
   "metadata": {},
   "source": [
    "Advantages: \n",
    "* Easy to add\n",
    "* Easy to delete\n",
    "\n",
    "Disadvantages:\n",
    "* Slower index\n",
    "* Slower to loop through\n",
    "* More space than arrays"
   ]
  },
  {
   "cell_type": "markdown",
   "metadata": {},
   "source": [
    "### Notes on python lists\n",
    "\n",
    "Python lists go way beyond stacks or queues. They have many methods. You have probably seen some of the important ones. Just to highlight a few you will probably use often, if 's' is a list then \n",
    "\n",
    "* s.append(item): adds to the end\n",
    "* s.count(item): number of items in 's' that match 'item'\n",
    "* s.index(item): returns the index of first match of item in 's'\n",
    "* s.insert(ind, item): inserts the item at index 'ind'\n",
    "* s.remove(ind): removes an item at index 'ind'\n",
    "* s.reverse(): reverses all the items in place (and returns nothing)\n",
    "* s.sort(): sorts the elements on a list\n",
    "\n",
    "We also have overloaded functions like 's1 + s2' which concatenates list 's1' with list 's2' and 's[ind]' which gives the item at index 'ind'."
   ]
  },
  {
   "cell_type": "markdown",
   "metadata": {},
   "source": [
    "#### Python Lists and References\n",
    "\n",
    "To understand python lists you need to understand a bit about references which is kind of behind the scenes. Each python object has an \"id\""
   ]
  },
  {
   "cell_type": "code",
   "execution_count": null,
   "metadata": {},
   "outputs": [],
   "source": []
  },
  {
   "cell_type": "markdown",
   "metadata": {},
   "source": [
    "Things get complicated with lists of lists."
   ]
  },
  {
   "cell_type": "code",
   "execution_count": null,
   "metadata": {},
   "outputs": [],
   "source": []
  },
  {
   "cell_type": "markdown",
   "metadata": {},
   "source": [
    "**Question 1** What is the difference?"
   ]
  },
  {
   "cell_type": "code",
   "execution_count": null,
   "metadata": {},
   "outputs": [],
   "source": []
  },
  {
   "cell_type": "markdown",
   "metadata": {},
   "source": [
    "### Python standard libraries\n",
    "\n",
    "**collections.deque:** Python 3.5+ has a collections library that has a number of useful data structures. One is the deque object which implements a stack-queue combination which can be used for either.\n",
    "\n",
    "**queue:** Python 3.5+ has a queue standard library that provides different flavors of queues. You might wonder why you need so many if you can just use lists. This has to do with concurrency. If different threads are adding and deleting things *at the same time* from the queue one has to be very careful that they all see the same queue."
   ]
  },
  {
   "cell_type": "markdown",
   "metadata": {},
   "source": [
    "## Key-Value Store\n",
    "\n",
    "There are many situations where you need a very fast lookup. For example, lets say we have a student id. A university administrator should be able to take the student id and look up, for example, the student's last name. We could do this with two lists:"
   ]
  },
  {
   "cell_type": "code",
   "execution_count": null,
   "metadata": {},
   "outputs": [],
   "source": []
  },
  {
   "cell_type": "markdown",
   "metadata": {},
   "source": [
    "This kind of lookup is going through the whole list and looking for the first match. This is not super-fast, particularly if the list is long and the comparisons are complex. There is a much better data structure."
   ]
  },
  {
   "cell_type": "markdown",
   "metadata": {},
   "source": [
    "### Python Dictionaries, Hash Tables\n",
    "\n",
    "Python dictionaries use what are called hashes to implement fast lookup. The items we are going to use to look up information are called \"keys\" and the targets of the lookups are called \"values\". In our example in the last section the keys are 'id_list' and the 'values' are 'name_list'. We can build a table that allows for fast lookup as follows:"
   ]
  },
  {
   "cell_type": "code",
   "execution_count": null,
   "metadata": {},
   "outputs": [],
   "source": []
  },
  {
   "cell_type": "markdown",
   "metadata": {},
   "source": [
    "#### Hash\n",
    "\n",
    "The keys have to be 'hashable' which means that it an immutable thing that can't be modified a key must be replaced with a new key. Example a string or an int can be a key. A list (mutable) can not. A tuple (immutable) can be. "
   ]
  },
  {
   "cell_type": "code",
   "execution_count": null,
   "metadata": {},
   "outputs": [],
   "source": []
  },
  {
   "cell_type": "markdown",
   "metadata": {},
   "source": [
    "The way that a 'hash table' works under the hood is that the hash number, under-the-hood, is changed into an index into a table. Because it a function that goes from key to number to index in table, this is very fast. Things get more complex because in building the table initially, two hashes may accidentally map to the same index. In this case, a second hash is used to find another spot. Read elsewhere about implementation of hash-tables.\n",
    "\n",
    "Advantages: \n",
    "* Fast lookup by key\n",
    "* Easy to add\n",
    "* Easy to delete\n",
    "\n",
    "Disadvantages:\n",
    "* Generally harder to list or do a search by value\n",
    "* Harder to run through than queues, stacks, or arrays\n",
    "* More space than queues, stacks, or arrays"
   ]
  },
  {
   "cell_type": "markdown",
   "metadata": {},
   "source": [
    "### python standard library: collections\n",
    "\n",
    "The collections python standard library has a number of extended dictionary versions. For example there is no gaurenteed ordering in ordinary dictionaries. An OrderedDict remembers the order that key-value pairs were inserted."
   ]
  },
  {
   "cell_type": "markdown",
   "metadata": {},
   "source": [
    "## Trees\n",
    "\n",
    "Often data is hierarchical. The \"tree of life\" is a great example. A great panda is a panda is a mammal is a vertebrate is an animal.  It may be that one wants to be able to answer questions like list all mammals, or find the common category between a panda and a shark, or list all the categories of a particular animal. \n",
    "\n",
    "Another example is directories on a file system (ignoring symbolic links). Python does not have any built in tree libraries but has many third party data structures libraries. One example is treelib [code](https://github.com/caesar0301/treelib), [docs](https://treelib.readthedocs.io/en/latest/). "
   ]
  },
  {
   "cell_type": "code",
   "execution_count": 120,
   "metadata": {},
   "outputs": [
    {
     "name": "stdout",
     "output_type": "stream",
     "text": [
      "Collecting treelib\n",
      "  Downloading https://files.pythonhosted.org/packages/cf/4f/f6dc76341c438a84672386a5db57c1a49b3d79a642a09328c7c3f72db144/treelib-1.5.3.tar.gz\n",
      "Building wheels for collected packages: treelib\n",
      "  Running setup.py bdist_wheel for treelib ... \u001b[?25ldone\n",
      "\u001b[?25h  Stored in directory: /Users/michael/Library/Caches/pip/wheels/c4/29/a2/1bd8145c2898f2b9f2a23a97659580e38043e1065560f8df60\n",
      "Successfully built treelib\n",
      "\u001b[31mtwisted 18.7.0 requires PyHamcrest>=1.9.0, which is not installed.\u001b[0m\n",
      "Installing collected packages: treelib\n",
      "Successfully installed treelib-1.5.3\n",
      "\u001b[33mYou are using pip version 10.0.1, however version 18.0 is available.\n",
      "You should consider upgrading via the 'pip install --upgrade pip' command.\u001b[0m\n"
     ]
    }
   ],
   "source": [
    "# installing\n",
    "#! pip install treelib"
   ]
  },
  {
   "cell_type": "code",
   "execution_count": null,
   "metadata": {},
   "outputs": [],
   "source": []
  },
  {
   "cell_type": "markdown",
   "metadata": {},
   "source": [
    "### Other libraries and data structures\n",
    "\n",
    "* An important implementation of a tree as a file format is the Hierarchical Data Format version 5 (HDF5) file format is an extreemly popular scientific data format based on trees. Each node can store whole numpy arrays as data, for example. A popular library for this is pytables [code](https://github.com/PyTables/PyTables) [docs](http://www.pytables.org/)\n",
    "* Something that generalizes lists and trees is a graph. A great library with lots of algorithms for general graphs (including trees) is NetworkX [code](https://github.com/networkx/networkx) [docs](https://networkx.github.io/documentation/latest/)"
   ]
  },
  {
   "cell_type": "markdown",
   "metadata": {},
   "source": [
    "## Composite\n",
    "\n",
    "There are many ways to build data structures, to save them, to access them. Typically you will use multiple data structures at the same time. One common composite important data structure is a table. We can think of a table as having rows and columns. \n",
    "\n",
    "We can think about each row as having data. The name of data is the column name (key) and the value is whatever that row has for that column. Thus we can think of a table as a list of dictionaries. A composite of lists and dictionaries. \n",
    "\n"
   ]
  },
  {
   "cell_type": "markdown",
   "metadata": {},
   "source": [
    "# Link List\n",
    "\n",
    "I skipped link list. This, by itself is not such an interesting data structure. It is often used as a basis of implementing queues, stacks and arrays so we will have a quick look.\n",
    "\n",
    "We saw with trees a notion of a node. A node has data and it knows the next connected node."
   ]
  },
  {
   "cell_type": "code",
   "execution_count": null,
   "metadata": {},
   "outputs": [],
   "source": []
  },
  {
   "cell_type": "code",
   "execution_count": null,
   "metadata": {},
   "outputs": [],
   "source": []
  }
 ],
 "metadata": {
  "kernelspec": {
   "display_name": "Python 3 (ipykernel)",
   "language": "python",
   "name": "python3"
  },
  "language_info": {
   "codemirror_mode": {
    "name": "ipython",
    "version": 3
   },
   "file_extension": ".py",
   "mimetype": "text/x-python",
   "name": "python",
   "nbconvert_exporter": "python",
   "pygments_lexer": "ipython3",
   "version": "3.9.12"
  },
  "nteract": {
   "version": "0.24.1"
  }
 },
 "nbformat": 4,
 "nbformat_minor": 2
}
