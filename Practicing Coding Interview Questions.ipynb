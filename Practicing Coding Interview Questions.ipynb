{
 "cells": [
  {
   "cell_type": "markdown",
   "id": "f20a2ec4",
   "metadata": {},
   "source": [
    "https://app.datacamp.com/learn/courses/practicing-coding-interview-questions-in-python"
   ]
  },
  {
   "cell_type": "markdown",
   "id": "747ca33c",
   "metadata": {},
   "source": [
    "#### List methods\n",
    "Let's practice list methods!\n",
    "\n",
    "Let's imagine a situation: you went to the market and filled your baskets (basket1 and basket2) with fruits. You wanted to have one of each kind but realized that some fruits were put in both baskets.\n",
    "\n",
    "Task 1. Your first task is to remove everything from basket2 that is already present in basket1.\n",
    "\n",
    "Task 2. After the removal it is reasonable to anticipate that one of the baskets might weigh more compared to the another (all fruit kinds weight the same). Therefore, the second task is to transfer some fruits from a heavier basket to the lighter one to get approximately the same weight/amount of fruits."
   ]
  },
  {
   "cell_type": "code",
   "execution_count": null,
   "id": "d7a3eea7",
   "metadata": {},
   "outputs": [],
   "source": [
    "# Remove fruits from basket2 that are present in basket1\n",
    "for item in basket1:\n",
    "    if item in basket2:\n",
    "        basket2.remove(item)\n",
    "\n",
    "print('Basket 1: ' + str(basket1))\n",
    "print('Basket 2: ' + str(basket2))\n",
    "\n",
    "# Transfer fruits from basket1 to basket2\n",
    "while len(basket1) > len(basket2):\n",
    "    item_to_transfer = basket1.pop()\n",
    "    basket2.append(item_to_transfer)\n",
    "\n",
    "print('Basket 1: ' + str(basket1))\n",
    "print('Basket 2: ' + str(basket2))\n"
   ]
  },
  {
   "cell_type": "markdown",
   "id": "4bf4c193",
   "metadata": {},
   "source": [
    "#### Storing data in a dictionary\n",
    "The surface you see below is called circular paraboloid:\n",
    "\n",
    "Circular Paraboloid\n",
    "\n",
    "It can be described by the following equation:\n",
    " \n",
    " \n",
    "Let's set the coefficient  to 1. Therefore, the radius at each cut will be equal to .\n",
    "\n",
    "Your task is to create a dictionary that stores the mapping from the pair of coordinates  to the  coordinate (the lists storing considered ranges for  and  are given: range_x and range_y, respectively)."
   ]
  },
  {
   "cell_type": "code",
   "execution_count": null,
   "id": "0a651fa5",
   "metadata": {},
   "outputs": [],
   "source": [
    "circ_parab = dict()\n",
    "\n",
    "for x in range_x:\n",
    "    for y in range_y:       \n",
    "        # Calculate the value for z\n",
    "        z = x**2 + y**2\n",
    "        # Create a new key for the dictionary\n",
    "        key = (x, y)\n",
    "        # Create a new key-value pair      \n",
    "        circ_parab[key] = z\n"
   ]
  },
  {
   "cell_type": "markdown",
   "id": "6ac6344b",
   "metadata": {},
   "source": [
    "#### String indexing and concatenation\n",
    "You are presented with one of the earliest known encryption techniques - Caesar cipher. It is based on a simple shift of each letter in a message by a certain number of positions down the given alphabet. For example, given the English alphabet, a shift of 1 for 'xyz' would imply 'yza' and vice versa in case of decryption. Notice that 'z' becomes 'a' in this case.\n",
    "\n",
    "Thus, encryption/decryption requires two arguments: text and an integer key denoting the shift (key = 1 for the example above).\n",
    "\n",
    "Your task is to create an encryption function given the English alphabet stored in the alphabet string."
   ]
  },
  {
   "cell_type": "code",
   "execution_count": null,
   "id": "a1f59f0a",
   "metadata": {},
   "outputs": [],
   "source": [
    "def encrypt(text, key):\n",
    "  \n",
    "    encrypted_text = ''\n",
    "\n",
    "    # Fill in the blanks to create an encrypted text\n",
    "    for char in text.lower():\n",
    "        idx = (alphabet.index(char) + key) % len(alphabet)\n",
    "        encrypted_text = encrypted_text + alphabet[idx]\n",
    "\n",
    "    return encrypted_text\n",
    "\n",
    "# Check the encryption function with the shift equals to 10\n",
    "print(encrypt(\"datacamp\", 10))\n"
   ]
  },
  {
   "cell_type": "markdown",
   "id": "89da8edd",
   "metadata": {},
   "source": [
    "##### Operations on strings\n",
    "You are given the variable text storing the following string 'StRing ObJeCts haVe mANy inTEResting pROPerTies'.\n",
    "\n",
    "Your task is to modify this string in such a way that would result in 'string OBJECTS have MANY interesting PROPERTIES' (every other word in text is lowercased and uppercased, otherwise). You will obtain this result in three steps."
   ]
  },
  {
   "cell_type": "code",
   "execution_count": null,
   "id": "ab026fd8",
   "metadata": {},
   "outputs": [],
   "source": [
    "# Create a word list from the string stored in 'text'\n",
    "word_list = text.split()\n",
    "\n",
    "# Make every other word lowercased; otherwise - uppercased\n",
    "for i in range(len(word_list)):\n",
    "    if (i + 1) % 2 == 0:\n",
    "        word_list[i] = word_list[i].upper()\n",
    "    else:\n",
    "        word_list[i] = word_list[i].lower()\n",
    "\n",
    "print(word_list)\n",
    "\n",
    "# Join the words back and form a new string\n",
    "new_text = \" \".join(word_list)\n",
    "print(new_text)"
   ]
  },
  {
   "cell_type": "markdown",
   "id": "b154ceba",
   "metadata": {},
   "source": [
    "#### Fixing string errors in a DataFrame\n",
    "You are given the heroes dataset containing the information on different comic book heroes. However, you'll need to make some refinements in order to use this dataset further.\n",
    "\n",
    "Comparing Eye color, Hair color, and Skin color columns, you can see that strings in the Hair color columns are capitalized, whereas in other two the strings are lowercased.\n",
    "\n",
    "Moreover, some rows in the Gender column contain a spelling error (Fmale instead of Female).\n",
    "\n",
    "Your task is to make the strings in the Hair color column lowercased and to fix the spelling error in the Gender column."
   ]
  },
  {
   "cell_type": "code",
   "execution_count": null,
   "id": "f9fbcd10",
   "metadata": {},
   "outputs": [],
   "source": [
    "# Make all the values in the 'Hair color' column lowercased\n",
    "heroes['Hair color'] = heroes['Hair color'].str.lower()\n",
    "  \n",
    "# Check the values in the 'Hair color' column\n",
    "print(heroes['Hair color'].value_counts())\n",
    "\n",
    "# Substitute 'Fmale' with 'Female' in the 'Gender' column\n",
    "heroes['Gender'] = heroes['Gender'].str.replace(\"Fmale\", \"Female\")\n",
    "\n",
    "# Check if there is no occurences of 'Fmale'\n",
    "print(heroes['Gender'].value_counts())"
   ]
  },
  {
   "cell_type": "markdown",
   "id": "dcf8e2a0",
   "metadata": {},
   "source": [
    "#### Write a regular expression\n",
    "Let's write some regular expressions!\n",
    "\n",
    "Your task is to create a regular expression matching a valid temperature represented either in Celsius or Fahrenheit scale (e.g. '+23.5 C', '-4 F', '0.0 C', '73.45 F') and to extract all the appearances from the given string text. Positive temperatures can be with or without the + prefix (e.g. '5 F', '+5 F'). Negative temperatures must be prefixed with -. Zero temperature can be used with a prefix or without.\n",
    "\n",
    "The re module is already imported.\n",
    "\n",
    "Tips:\n",
    "\n",
    "The + symbol within the square brackets [] matches the + symbol itself (e.g. the regular expression [1a+] matches to '1', 'a', or '+').\n",
    "You can also apply ? to the characters within the square brackets [] to make the set optional (e.g. [ab]? matches to 'a', 'b', or '')."
   ]
  },
  {
   "cell_type": "code",
   "execution_count": null,
   "id": "eabaf562",
   "metadata": {},
   "outputs": [],
   "source": [
    "# Define the pattern to search for valid temperatures\n",
    "pattern = re.compile(r'[+-]?\\d+\\.?\\d* [CF]')\n",
    "\n",
    "# Print the temperatures out\n",
    "print(re.findall(pattern, text))\n",
    "\n",
    "# Create an object storing the matches using 'finditer()'\n",
    "matches_storage = re.finditer(pattern, text)\n",
    "\n",
    "# Loop over matches_storage and print out item properties\n",
    "for match in matches_storage:\n",
    "    print('matching sequence = ' + match.group())\n",
    "    print('start index = ' + str(match.start()))\n",
    "    print('end index = ' + str(match.end()))\n"
   ]
  },
  {
   "cell_type": "markdown",
   "id": "5de208d2",
   "metadata": {},
   "source": [
    "#### Splitting by a pattern\n",
    "You are given the movies list where each element stores a movie name, its release date, and the director (e.g. \"The Godfather, 1972, Francis Ford Coppola\").\n",
    "\n",
    "Let's practice some splitting with the help of regular expressions. Your task is to retrieve from each element of the list its name and the director. For example, if the element is \"The Godfather, 1972, Francis Ford Coppola\", the result would be:\n",
    "\n",
    "['The Godfather', 'Francis Ford Coppola']\n",
    "Eventually, this result should be modified to represent a single string, e.g.\n",
    "\n",
    "\"The Godfather, Francis Ford"
   ]
  },
  {
   "cell_type": "code",
   "execution_count": null,
   "id": "0e623190",
   "metadata": {},
   "outputs": [],
   "source": [
    "# Compile a regular expression\n",
    "pattern = re.compile(r', \\d+, ')\n",
    "\n",
    "movies_without_year = []\n",
    "for movie in movies:\n",
    "    # Retrieve a movie name and its director\n",
    "    split_result = re.split(pattern, movie)\n",
    "    # Create a new string with a movie name and its director\n",
    "    movie_and_director = ', '.join(split_result)\n",
    "    # Append the resulting string to movies_without_year\n",
    "    movies_without_year.append(movie_and_director)\n",
    "    \n",
    "for movie in movies_without_year:\n",
    "    print(movie)\n"
   ]
  },
  {
   "cell_type": "markdown",
   "id": "746c0207",
   "metadata": {},
   "source": [
    "#### enumerate()\n",
    "Let's enumerate! Your task is, given a string, to define the function retrieve_character_indices() that creates a dictionary character_indices, where each key represents a unique character from the string and the corresponding value is a list containing the indices/positions of this letter in the string.\n",
    "\n",
    "For example, passing the string 'ukulele' to the retrieve_character_indices() function should result in the following output: {'e': [4, 6], 'k': [1], 'l': [3, 5], 'u': [0, 2]}.\n",
    "\n",
    "For this task, you are not allowed to use any string methods!"
   ]
  },
  {
   "cell_type": "code",
   "execution_count": null,
   "id": "d9da4c5a",
   "metadata": {},
   "outputs": [],
   "source": [
    "def retrieve_character_indices(string):\n",
    "    character_indices = dict()\n",
    "    # Define the 'for' loop\n",
    "    for index, character in enumerate(string):\n",
    "        # Update the dictionary if the key already exists\n",
    "        if character in character_indices:\n",
    "            character_indices[character].append(index)\n",
    "        # Update the dictionary if the key is absent\n",
    "        else:\n",
    "            character_indices[character] = [index]\n",
    "            \n",
    "    return character_indices\n",
    "  \n",
    "# print(retrieve_character_indices('ukulele'))\n",
    "print(retrieve_character_indices('enumerate an Iterable'))\n"
   ]
  },
  {
   "cell_type": "markdown",
   "id": "8a9a0dc2",
   "metadata": {},
   "source": [
    "#### Traversing a DataFrame\n",
    "Let's iterate through a DataFrame! You are given the heroes DataFrame you're already familiar with. This time, it contains only categorical data and no missing values. You have to create the following dictionary from this dataset:\n",
    "\n",
    "Each key is a column name.\n",
    "Each value is another dictionary:\n",
    "Each key is a unique category from the column.\n",
    "Each value is the amount of heroes falling into this category.\n",
    "Tip: a Series object is also an Iterable. It traverses through the values it stores when you put it in a for loop or pass it to list(), tuple(), or set() initializers."
   ]
  },
  {
   "cell_type": "code",
   "execution_count": null,
   "id": "523e3ed2",
   "metadata": {},
   "outputs": [],
   "source": [
    "column_counts = dict()\n",
    "\n",
    "# Traverse through the columns in the heroes DataFrame\n",
    "for column_name, series in heroes.iteritems():\n",
    "    # Retrieve the values stored in series in a list form\n",
    "    values = list(series)\n",
    "    category_counts = dict()  \n",
    "    # Traverse through unique categories in values\n",
    "    for category in set(values):\n",
    "        # Count the appearance of category in values\n",
    "        category_counts[category] = values.count(category)\n",
    "    \n",
    "    column_counts[column_name] = category_counts\n",
    "    \n",
    "print(column_counts)\n"
   ]
  },
  {
   "cell_type": "markdown",
   "id": "2b298aea",
   "metadata": {},
   "source": [
    "#### Basic list comprehensions\n",
    "For this task, you will have to create a bag-of-words representation of the spam email stored in the spam variable (you can explore the content using the shell). Recall that bag-of-words is simply a counter of unique words in a given text. This representation can be further used for text classification, e.g. for spam detection (given enough training examples).\n",
    "\n",
    "We created a small auxiliary function create_word_list() to help you split a string into words, e.g. applying it to 'To infinity... and beyond!' will return ['To', 'infinity', 'and', 'beyond']"
   ]
  },
  {
   "cell_type": "code",
   "execution_count": null,
   "id": "9f5cc727",
   "metadata": {},
   "outputs": [],
   "source": [
    "# Convert the text to lower case and create a word list\n",
    "words = create_word_list(spam.lower())\n",
    "\n",
    "# Create a set storing only unique words\n",
    "word_set = set(words)\n",
    "\n",
    "# Create a dictionary that counts each word in the list\n",
    "tuples = [(word, words.count(word)) for word in word_set]\n",
    "word_counter = dict(tuples)\n",
    "\n",
    "# Printing words that appear more than once\n",
    "for (key, value) in word_counter.items():\n",
    "    if value > 1:\n",
    "        print(\"{}: {}\".format(key, value))\n"
   ]
  },
  {
   "cell_type": "markdown",
   "id": "934b2c54",
   "metadata": {},
   "source": [
    "#### Prime number sequence\n",
    "A prime number is a natural number that is divisible only by 1 or itself (e.g. 3, 7, 11 etc.). However, 1 is not a prime number.\n",
    "\n",
    "Your task is, given a list of candidate numbers cands, to filter only prime numbers in a new list primes.\n",
    "\n",
    "But first, you need to create a function is_prime() that returns True if the input number  is prime or False, otherwise. To do so, it's sufficient to test if a number is not divisible by any integer number from 2 to .\n",
    "\n",
    "Tip: you might need to use the % operator that calculates a remainder from a division (e.g. 8 % 3 is 2).\n",
    "\n",
    "The math module is already imported."
   ]
  },
  {
   "cell_type": "code",
   "execution_count": null,
   "id": "fad36c87",
   "metadata": {},
   "outputs": [],
   "source": [
    "def is_prime(n):\n",
    "    # Define the initial check\n",
    "    if n < 2:\n",
    "       return False\n",
    "    # Define the loop checking if a number is not prime\n",
    "    for i in range(2, int(math.sqrt(n)) + 1):\n",
    "        if n % i == 0:\n",
    "            return False\n",
    "    return True\n",
    "    \n",
    "# Filter prime numbers into the new list\n",
    "primes = [num for num in cands if is_prime(num)]\n",
    "print(\"primes = \" + str(primes))"
   ]
  },
  {
   "cell_type": "markdown",
   "id": "8e0e6bef",
   "metadata": {},
   "source": [
    "#### Coprime number sequence\n",
    "Two numbers  and  are coprime if their Greatest Common Divisor (GCD) is 1. GCD is the largest positive number that divides two given numbers  and . For example, the numbers 7 and 9 are coprime because their GCD is 1.\n",
    "\n",
    "Given two lists list1 and list2, your task is to create a new list coprimes that contains all the coprime pairs from list1 and list2.\n",
    "\n",
    "But first, you need to write a function for the GCD using the following algorithm:\n",
    "\n",
    "check if \n",
    "if true, return  as the GCD between  and \n",
    "if false, go to step 2\n",
    "make a substitution  and \n",
    "go back to step 1"
   ]
  },
  {
   "cell_type": "code",
   "execution_count": null,
   "id": "c5c9001c",
   "metadata": {},
   "outputs": [],
   "source": [
    "def gcd(a, b):\n",
    "    # Define the while loop as described\n",
    "    while b != 0:\n",
    "        temp_a = a\n",
    "        a = b\n",
    "        b = temp_a % b    \n",
    "    # Complete the return statement\n",
    "    return a\n",
    "    \n",
    "# Create a list of tuples defining pairs of coprime numbers\n",
    "coprimes = [(i, j) for i in list1 \n",
    "                   for j in list2 if gcd(i, j) == 1]\n",
    "print(coprimes)\n"
   ]
  },
  {
   "cell_type": "markdown",
   "id": "84724cca",
   "metadata": {},
   "source": [
    "#### Combining iterable objects\n",
    "You are given the list wlist that contains lists of different words. Your task is to create a new iterable object, where each element represents a tuple. Each tuple should contain a list from the wlist, the length of this list, and the longest word within this list. If there is ambiguity in choosing the longest word, the word with the lowest index in the considered list should be taken into account. For example, given the list\n",
    "\n",
    "[\n",
    "    ['dog', 'pigeon'],\n",
    "    ['cat', 'wolf', 'seal']\n",
    "]\n",
    "the resulting tuples will be:\n",
    "(['dog', 'pigeon'], 2, 'pigeon')\n",
    "and\n",
    "(['cat', 'wolf', 'seal'], 3, 'wolf')"
   ]
  },
  {
   "cell_type": "code",
   "execution_count": null,
   "id": "28ac23e2",
   "metadata": {},
   "outputs": [],
   "source": [
    "# Define a function searching for the longest word\n",
    "def get_longest_word(words):\n",
    "    longest_word = ''\n",
    "    for word in words:\n",
    "        if len(word) > len(longest_word):\n",
    "            longest_word = word\n",
    "    return longest_word\n",
    "\n",
    "# Create a list of the lengths of each list in wlist\n",
    "lengths = [len(item) for item in wlist]\n",
    "\n",
    "# Create a list of the longest words in each list in wlist\n",
    "words = [get_longest_word(item) for item in wlist]\n",
    "\n",
    "# Combine the resulting data into one iterable object\n",
    "for item in zip(wlist, lengths, words):\n",
    "    print(item)"
   ]
  },
  {
   "cell_type": "markdown",
   "id": "57ddec9a",
   "metadata": {},
   "source": [
    "#### Extracting tuples\n",
    "In the previous exercise, you used two list comprehensions to create lists lengths and words that, respectively, refer to the lengths of the constituent lists in wlist and the longest words stored in those lists. In this exercise, you'll create them in a slightly different way. First, you'll need to put the same calculations into one list comprehension, which should result in a list of tuples. Second, apply the unzip operation to generate two distinct tuples, resembling lengths and words from the previous exercise.\n",
    "\n",
    "The list wlist and the function get_longest_word() are already available in your workspace."
   ]
  },
  {
   "cell_type": "code",
   "execution_count": null,
   "id": "e0bc59e3",
   "metadata": {},
   "outputs": [],
   "source": [
    "# Create a list of tuples with lengths and longest words\n",
    "result = [\n",
    "    (len(item), get_longest_word(item)) for item in wlist\n",
    "]\n",
    "\n",
    "# Unzip the result    \n",
    "lengths, words = zip(*result)\n",
    "\n",
    "for item in zip(wlist, lengths, words):\n",
    "    print(item)"
   ]
  },
  {
   "cell_type": "markdown",
   "id": "1aa4c8c6",
   "metadata": {},
   "source": [
    "#### Creating a DataFrame\n",
    "Your last task in this lesson is to create a DataFrame from a dictionary supplied by a zip object. You have to take each single word stored in the list wlist and calculate its length. This data should be stored in two separate tuples that are supplied to the zip() initializer. The resulting zip object should be used to construct a DataFrame where the first column will store words and the second column will store their lengths.\n",
    "\n",
    "The module pandas is already imported for you as pd."
   ]
  },
  {
   "cell_type": "code",
   "execution_count": null,
   "id": "19736655",
   "metadata": {},
   "outputs": [],
   "source": [
    "# Create a list of tuples with words and their lengths\n",
    "word_lengths = [\n",
    "    (item, len(item)) for items in wlist for item in items\n",
    "]\n",
    "\n",
    "# Unwrap the word_lengths\n",
    "words, lengths = zip(*word_lengths)\n",
    "\n",
    "# Create a zip object\n",
    "col_names = ['word', 'length']\n",
    "result = zip(col_names, [words, lengths])\n",
    "\n",
    "# Convert the result to a dictionary and build a DataFrame\n",
    "data_frame = pd.DataFrame(dict(result))\n",
    "print(data_frame)\n"
   ]
  },
  {
   "cell_type": "markdown",
   "id": "733936f5",
   "metadata": {},
   "source": [
    "#### Shift a string\n",
    "You're going to create a generator that, given a string, produces a sequence of constituent characters shifted by a specified number of positions shift. For example, the string 'sushi' produces the sequence 'h', 'i', 's', 'u', 's' when we shift by 2 positions to the right (shift = 2). When we shift by 2 positions to the left (shift = -2), the resulting sequence will be 's', 'h', 'i', 's', 'u'.\n",
    "\n",
    "Tip: use the % operator to cycle through the valid indices. Applying it to a positive or negative number gives a non-negative remainder, which can be helpful when shifting your index.\n",
    "\n",
    "For example, consider the following variable string = 'python', holding a string of 6 characters:\n",
    "\n",
    "2 % 6 = 2 (thus, string[2 % 6] is t)\n",
    "0 % 6 = 0 (thus, string[0 % 6] is p)\n",
    "-2 % 6 = 4 (thus, string[-2 % 6] is o)"
   ]
  },
  {
   "cell_type": "code",
   "execution_count": null,
   "id": "24e4e6ca",
   "metadata": {},
   "outputs": [],
   "source": [
    "def shift_string(string, shift):\n",
    "    len_string = len(string)\n",
    "    # Loop over the indices of a string\n",
    "    for idx in range(0, len_string):\n",
    "        # Find which character will correspond to the index.\n",
    "        yield string[(idx - shift) % len_string]\n",
    "       \n",
    "# Create a generator\n",
    "gen = shift_string('DataCamp', 3)\n",
    "\n",
    "# Create a new string using the generator and print it out\n",
    "string_shifted = ''.join(gen)\n",
    "print(string_shifted)\n"
   ]
  },
  {
   "cell_type": "markdown",
   "id": "d84efb70",
   "metadata": {},
   "source": [
    "#### Throw a dice\n",
    "Let's create an infinite generator! Your task is to define the simulate_dice_throws() generator. It generates the outcomes of a 6-sided dice tosses in the form of a dictionary out. Each key is a possible outcome (1, 2, 3, 4, 5, 6). Each value is a list: the first value is the amount of realizations of an outcome and the second, the ratio of realizations to the total number of tosses total.\n",
    "\n",
    "Tip: use the randint() function from the random module (already imported). It generates a random integer in the specified interval (e.g. randint(1, 2) can be 1 or 2)."
   ]
  },
  {
   "cell_type": "code",
   "execution_count": null,
   "id": "2e6229cd",
   "metadata": {},
   "outputs": [],
   "source": [
    "def simulate_dice_throws():\n",
    "    total, out = 0, dict([(i, [0, 0]) for i in range(1, 7)])\n",
    "    while True:\n",
    "        # Simulate a single toss to get a new number\n",
    "        num = random.randint(1, 6)\n",
    "        total += 1\n",
    "        # Update the number and the ratio of realizations\n",
    "        out[num][0] = out[num][0] + 1\n",
    "        for j in range(1, 7):\n",
    "            out[j][1] = round(out[j][0]/total, 2)\n",
    "        # Yield the updated dictionary\n",
    "        yield out\n",
    "\n",
    "# Create the generator and simulate 1000 tosses\n",
    "dice_simulator = simulate_dice_throws()\n",
    "for i in range(1, 1001):\n",
    "    print(str(i) + ': ' + str(next(dice_simulator)))\n"
   ]
  },
  {
   "cell_type": "markdown",
   "id": "78a4561b",
   "metadata": {},
   "source": [
    "#### Generator comprehensions\n",
    "You are given the following generator functions (you can test them in the console):\n",
    "\n",
    "def func1(n):\n",
    "  for i in range(0, n):\n",
    "    yield i**2\n",
    "def func2(n):\n",
    "  for i in range(0, n):\n",
    "     if i%2 == 0:\n",
    "       yield 2*i\n",
    "def func3(n, m):\n",
    "  for i in func1(n):\n",
    "    for j in func2(m):\n",
    "      yield ((i, j), i + j)\n",
    "Note that func3() uses internally func1() and func2()"
   ]
  },
  {
   "cell_type": "code",
   "execution_count": null,
   "id": "40350254",
   "metadata": {},
   "outputs": [],
   "source": [
    "# Rewrite func1() as a generator comprehension\n",
    "gen = (i**2 for i in range(0,10))\n",
    "\n",
    "for item in zip(gen, func1(10)):\n",
    "    print(item)\n"
   ]
  },
  {
   "cell_type": "code",
   "execution_count": null,
   "id": "e9ef6160",
   "metadata": {},
   "outputs": [],
   "source": [
    "# Rewrite func1() as a generator comprehension\n",
    "gen = (i*2 for i in range(0,10) if i%2==0)\n",
    "\n",
    "for item in zip(gen, func2(20)):\n",
    "    print(item)\n"
   ]
  },
  {
   "cell_type": "code",
   "execution_count": null,
   "id": "928c48ad",
   "metadata": {},
   "outputs": [],
   "source": [
    "# Rewrite func3() as a generator comprehension\n",
    "gen = (((i, j), i + j) for i in func1(8) for j in func2(10))\n",
    "\n",
    "for item in zip(gen, func3(8, 10)):\n",
    "    print(item)\n",
    "\n",
    "\n"
   ]
  },
  {
   "cell_type": "markdown",
   "id": "fbec7640",
   "metadata": {},
   "source": [
    "#### Positional arguments of variable size\n",
    "Let's practice positional arguments of variable size. Your task is to define the function sort_types(). It takes a variable number of positional arguments and checks if each argument is a number or a string. The checked item is inserted afterwards either in the nums or strings list. Eventually, the function returns a tuple containing these lists.\n",
    "\n",
    "Use the Python's built-in isinstance() function to check if an object is of a certain type (e.g. isinstance(1, int) returns True) or one of the types (e.g. isinstance(5.65, (int, str)) returns False).\n",
    "\n",
    "Types to use in this task are int, float, and str."
   ]
  },
  {
   "cell_type": "code",
   "execution_count": null,
   "id": "3bbc0469",
   "metadata": {},
   "outputs": [],
   "source": [
    "# Define the function with an arbitrary number of arguments\n",
    "def sort_types(*args):\n",
    "    nums, strings = [], []   \n",
    "    for arg in args:\n",
    "        # Check if 'arg' is a number and add it to 'nums'\n",
    "        if isinstance(arg, (int, float)):\n",
    "            nums.append(arg)\n",
    "        # Check if 'arg' is a string and add it to 'strings'\n",
    "        elif isinstance(arg, str):\n",
    "            strings.append(arg)\n",
    "    \n",
    "    return (nums, strings)\n",
    "            \n",
    "print(sort_types(1.57, 'car', 'hat', 4, 5, 'tree', 0.89))\n"
   ]
  },
  {
   "cell_type": "markdown",
   "id": "ab4e55b0",
   "metadata": {},
   "source": [
    "#### Keyword arguments of variable size\n",
    "Now let's move to keyword arguments of variable size! Your task is to define the function key_types(). It should take a variable number of keyword arguments and return a new dictionary: the keys are unique object types of arguments passed to the key_types() function and the associated values represent lists. Each list should contain argument names that follow the type defined as a key (e.g. calling the key_types(kwarg1='a', kwarg2='b', kwarg3=1) results in {<class 'int'>: ['kwarg3'], <class 'str'>: ['kwarg1', 'kwarg2']}).\n",
    "\n",
    "To retrieve the type of an object, you need to use the type() function (e.g. type(1) is int)."
   ]
  },
  {
   "cell_type": "code",
   "execution_count": null,
   "id": "2b296548",
   "metadata": {},
   "outputs": [],
   "source": [
    "# Define the function with an arbitrary number of arguments\n",
    "def key_types(**kwargs):\n",
    "    dict_type = dict()\n",
    "    # Iterate over key value pairs\n",
    "    for key, value in kwargs.items():\n",
    "        # Update a list associated with a key\n",
    "        if type(value) in dict_type:\n",
    "            dict_type[type(value)].append(key)\n",
    "        else:\n",
    "            dict_type[type(value)] = [key]\n",
    "            \n",
    "    return dict_type\n",
    "  \n",
    "res = key_types(a=1, b=2, c=(1, 2), d=3.1, e=4.2)\n",
    "print(res)\n"
   ]
  },
  {
   "cell_type": "markdown",
   "id": "17f54fd9",
   "metadata": {},
   "source": [
    "#### Combining argument types\n",
    "Now you'll try to combine different argument types. Your task is to define the sort_all_types() function. It takes positional and keyword arguments of variable size, finds all the numbers and strings contained within them, and concatenates type-wise the results. Use the sort_types() function you defined before (available in the workspace). It takes a positional argument of variable size and returns a tuple containing a list of numbers and a list of strings (type sort_types? to get additional help).\n",
    "\n",
    "Keep in mind that keyword arguments of variable size essentially represent a dictionary and the sort_types() function requires that you pass only its values.\n",
    "\n",
    "Tip: To call the sort_types() function correctly, you'd have to recall another usage of the * symbol."
   ]
  },
  {
   "cell_type": "code",
   "execution_count": null,
   "id": "be435074",
   "metadata": {},
   "outputs": [],
   "source": [
    "# Define the arguments passed to the function\n",
    "def sort_all_types(*args, **kwargs):\n",
    "\n",
    "    # Find all the numbers and strings in the 1st argument\n",
    "    nums1, strings1 = sort_types(*args)\n",
    "    \n",
    "    # Find all the numbers and strings in the 2nd argument\n",
    "    nums2, strings2 = sort_types(*kwargs.values())\n",
    "    \n",
    "    return (nums1 + nums2, strings1 + strings2)\n",
    "  \n",
    "res = sort_all_types(\n",
    "    1, 2.0, 'dog', 5.1, num1 = 0.0, num2 = 5, str1 = 'cat'\n",
    ")\n",
    "print(res)\n"
   ]
  },
  {
   "cell_type": "markdown",
   "id": "4eb0854d",
   "metadata": {},
   "source": [
    "#### Define lambda expressions\n",
    "Let's write some lambda expressions! You will be given three tasks: each will require you to define a lambda expression taking some values as arguments and using them to calculate a specific result."
   ]
  },
  {
   "cell_type": "code",
   "execution_count": null,
   "id": "146ba0e4",
   "metadata": {},
   "outputs": [],
   "source": [
    "# Take x and return x squared if x > 0 and 0, otherwise\n",
    "squared_no_negatives = lambda x: x**2 if x>0 else 0 \n",
    "print(squared_no_negatives(2.0))\n",
    "print(squared_no_negatives(-1))\n"
   ]
  },
  {
   "cell_type": "code",
   "execution_count": null,
   "id": "e650be1f",
   "metadata": {},
   "outputs": [],
   "source": [
    "# Take a list of integers nums and leave only even numbers\n",
    "get_even = lambda nums: [n for n in nums if n % 2 == 0]\n",
    "print(get_even([1, 2, 3, 4, 5, 6, 7, 8, 9, 10]))\n"
   ]
  },
  {
   "cell_type": "code",
   "execution_count": null,
   "id": "c1446c7b",
   "metadata": {},
   "outputs": [],
   "source": [
    "# Take strings s1, s2 and list their common characters\n",
    "common_chars = lambda s1, s2: set(s1).intersection(set(s2))\n",
    "print(common_chars('pasta', 'pizza'))\n"
   ]
  },
  {
   "cell_type": "markdown",
   "id": "3ceae8e8",
   "metadata": {},
   "source": [
    "#### Converting functions to lambda expressions\n",
    "Convert these three normally defined functions into lambda expressions:\n",
    "\n",
    "##### Returns a bigger of the two numbers\n",
    "def func1(x, y):\n",
    "    if x >= y:\n",
    "        return x\n",
    "\n",
    "    return y\n",
    "##### Returns a dictionary counting charaters in a string\n",
    "def func2(s):\n",
    "    d = dict()\n",
    "    for c in set(s):\n",
    "        d[c] = s.count(c)\n",
    "\n",
    "    return d\n",
    "##### Returns a squared root of a sum of squared numbers\n",
    "def func3(*nums):\n",
    "    squared_nums = [n**2 for n in nums]\n",
    "    sum_squared_nums = sum(squared_nums)\n",
    "\n",
    "    return math.sqrt(sum_squared_nums)"
   ]
  },
  {
   "cell_type": "code",
   "execution_count": null,
   "id": "1251f834",
   "metadata": {},
   "outputs": [],
   "source": [
    "# Convert func1() to a lambda expression\n",
    "lambda1 = lambda x,y: x if x>y else y\n",
    "print(str(func1(5, 4)) + ', ' + str(lambda1(5, 4)))\n",
    "print(str(func1(4, 5)) + ', ' + str(lambda1(4, 5)))\n"
   ]
  },
  {
   "cell_type": "code",
   "execution_count": null,
   "id": "e7fc3cfa",
   "metadata": {},
   "outputs": [],
   "source": [
    "# Convert func2() to a lambda expression\n",
    "lambda2 = lambda s: dict([(c, s.count(c)) for c in set(s)])\n",
    "print(func2('DataCamp'))\n",
    "print(lambda2('DataCamp'))\n"
   ]
  },
  {
   "cell_type": "code",
   "execution_count": null,
   "id": "533a51b5",
   "metadata": {},
   "outputs": [],
   "source": [
    "# Convert func3() to a lambda expression\n",
    "lambda3 = lambda *nums: math.sqrt(sum(n**2 for n in nums))\n",
    "print(str(func3(3, 4)) + ', ' + str(lambda3(3, 4)))\n",
    "print(str(func3(3, 4, 5)) + ', ' + str(lambda3(3, 4, 5)))\n"
   ]
  },
  {
   "cell_type": "markdown",
   "id": "057f9578",
   "metadata": {},
   "source": [
    "#### Using a lambda expression as an argument\n",
    "Let's pass lambda expressions as arguments to functions. You will deal with the list .sort() method. By default, it sorts numbers in increasing order. Characters and strings are sorted alphabetically. The method can be defined as .sort(key=function). Here, key defines a mapping of each item in the considered list to a sortable object (e.g. a number or a character). Thus, the items in a list are sorted the way sortable objects are.\n",
    "\n",
    "Your task is to define different ways to sort the list words using the key argument with a lambda expression."
   ]
  },
  {
   "cell_type": "code",
   "execution_count": null,
   "id": "0070043b",
   "metadata": {},
   "outputs": [],
   "source": [
    "# Sort words by the string length\n",
    "words.sort(key=lambda s: len(s))\n",
    "print(words)\n"
   ]
  },
  {
   "cell_type": "code",
   "execution_count": null,
   "id": "314dcb97",
   "metadata": {},
   "outputs": [],
   "source": [
    "# Sort words by the last character in a string\n",
    "words.sort(key=lambda s: s[-1])\n",
    "print(words)\n"
   ]
  },
  {
   "cell_type": "code",
   "execution_count": null,
   "id": "017f80f3",
   "metadata": {},
   "outputs": [],
   "source": [
    "# Sort words by the total amount of certain characters\n",
    "words.sort(key=lambda s: s.count('a') + s.count('b') + s.count('c'))\n",
    "print(words)\n"
   ]
  },
  {
   "cell_type": "markdown",
   "id": "4176d8e8",
   "metadata": {},
   "source": [
    "#### The map() function\n",
    "Let's do some mapping!\n",
    "\n",
    "Do you remember how zip() works? It merges given Iterables so that items with the same index fall into the same tuple. Moreover, the output is restricted by the shortest Iterable.\n",
    "\n",
    "Your task is to define your own my_zip() function with *args depicting a variable number of Iterables, e.g. lists, strings, tuples etc. Rather than a zip object, my_zip() should already return a list of tuples.\n",
    "\n",
    "Comment: args should be checked whether they contain Iterables first. But we omit it for simplicity."
   ]
  },
  {
   "cell_type": "code",
   "execution_count": null,
   "id": "5ca65390",
   "metadata": {},
   "outputs": [],
   "source": [
    "def my_zip(*args):\n",
    "    \n",
    "    # Retrieve Iterable lengths and find the minimal length\n",
    "    lengths = list(map(len, args))\n",
    "    min_length = min(lengths)\n",
    "\n",
    "    tuple_list = []\n",
    "    for i in range(0, min_length):\n",
    "        # Map the elements in args with the same index i\n",
    "        mapping = map(lambda x: x[i], args)\n",
    "        # Convert the mapping and append it to tuple_list\n",
    "        tuple_list.append(tuple(mapping))\n",
    "        \n",
    "    return tuple_list\n",
    "\n",
    "result = my_zip([1, 2, 3], ['a', 'b', 'c', 'd'], 'DataCamp')\n",
    "print(result)\n"
   ]
  },
  {
   "cell_type": "markdown",
   "id": "1e674644",
   "metadata": {},
   "source": [
    "#### The filter() function\n",
    "Let's do some filtering! You will be given three corresponding tasks you have to complete. Use lambda expressions! And remember: the filter() function keeps all the elements that are mapped to the True value.\n",
    "\n",
    "The variables nums, string and spells are available in your workspace."
   ]
  },
  {
   "cell_type": "code",
   "execution_count": null,
   "id": "f82b32be",
   "metadata": {},
   "outputs": [],
   "source": [
    "# Exclude all the numbers from nums divisible by 3 or 5\n",
    "print(nums)\n",
    "fnums = filter(lambda x: x % 3 != 0 and x % 5 != 0, nums)\n",
    "print(list(fnums))\n"
   ]
  },
  {
   "cell_type": "code",
   "execution_count": null,
   "id": "136e9f43",
   "metadata": {},
   "outputs": [],
   "source": [
    "# Return the string without its vowels\n",
    "print(string)\n",
    "vowels = ['a','e','i','o','u']\n",
    "fstring = filter(lambda x: x.lower()  not in vowels,string)\n",
    "print(''.join(fstring))\n"
   ]
  },
  {
   "cell_type": "code",
   "execution_count": null,
   "id": "7dc897a4",
   "metadata": {},
   "outputs": [],
   "source": [
    "# Filter all the spells in spells with more than two 'a's\n",
    "print(spells)\n",
    "fspells = filter(lambda x: x.count('a') > 2, spells)\n",
    "print(list(fspells))"
   ]
  },
  {
   "cell_type": "markdown",
   "id": "869cab5c",
   "metadata": {},
   "source": [
    "#### The reduce() function\n",
    "Now, it is time for some reduction! As before you'll be given three tasks to complete. Use lambda expressions!\n",
    "\n",
    "The necessary functions from the functools module are already imported for you."
   ]
  },
  {
   "cell_type": "code",
   "execution_count": null,
   "id": "28d43c3e",
   "metadata": {},
   "outputs": [],
   "source": [
    "# Reverse a string using reduce()\n",
    "string = 'DataCamp'\n",
    "inv_string = reduce(lambda x, y: y + x, string)\n",
    "print('Inverted string = ' + inv_string) "
   ]
  },
  {
   "cell_type": "code",
   "execution_count": null,
   "id": "04769082",
   "metadata": {},
   "outputs": [],
   "source": [
    "# Find common items shared among all the sets in sets\n",
    "sets = [{1, 4, 8, 9}, {2, 4, 6, 9, 10, 8}, {9, 0, 1, 2, 4}]\n",
    "common_items = reduce(lambda x,y: x.intersection(y), sets)\n",
    "print('common items = ' + str(common_items))\n"
   ]
  },
  {
   "cell_type": "code",
   "execution_count": null,
   "id": "1a6ece3b",
   "metadata": {},
   "outputs": [],
   "source": [
    "# Convert a number sequence into a single number\n",
    "nums = [5, 6, 0, 1]\n",
    "num = reduce(lambda x,y: str(x)+str(y) , nums)\n",
    "print(str(nums) + ' is converted to ' + str(num))\n"
   ]
  },
  {
   "cell_type": "markdown",
   "id": "3585e572",
   "metadata": {},
   "source": [
    "#### Calculate an average value\n",
    "We all know how to calculate an average value iteratively:\n",
    "\n",
    "def average(nums):\n",
    "\n",
    "    result = 0\n",
    "\n",
    "    for num in nums:\n",
    "        result += num\n",
    "\n",
    "    return result/len(nums)\n",
    "Could you provide a recursive solution? A formula for updating an average value given a new input might be handy:\n",
    "\n",
    " \n",
    "\n",
    "Here, \n",
    " stands for an average value,  is a new supplied value which is used to update the average, and  corresponds to the recursive call number (excluding the initial call to the function)."
   ]
  },
  {
   "cell_type": "code",
   "execution_count": null,
   "id": "8c34670b",
   "metadata": {},
   "outputs": [],
   "source": [
    "# Calculate an average value of the sequence of numbers\n",
    "def average(nums):\n",
    "  \n",
    "    # Base case\n",
    "    if len(nums) == 1:  \n",
    "        return nums[0]\n",
    "    \n",
    "    # Recursive call\n",
    "    n = len(nums)\n",
    "    return (nums[0] + (n - 1) * average(nums[1:])) / n  \n",
    "\n",
    "# Testing the function\n",
    "print(average([1, 2, 3, 4, 5]))"
   ]
  },
  {
   "cell_type": "markdown",
   "id": "45701699",
   "metadata": {},
   "source": [
    "#### Approximate Pi with recursion\n",
    "The number  can be computed by the following formula:\n",
    " \n",
    " \n",
    " \n",
    " \n",
    " \n",
    " \n",
    " \n",
    "Your task is to write a recursive function to approximate  using the formula defined above (the approximation means that instead of infinity , the sequence considers only a certain amount of elements ).\n",
    "\n",
    "Here are examples of  for some of the values of :\n"
   ]
  },
  {
   "cell_type": "code",
   "execution_count": null,
   "id": "27f3f1eb",
   "metadata": {},
   "outputs": [],
   "source": [
    "# Write an expression to get the k-th element of the series \n",
    "get_elmnt = lambda k: ((-1)**k)/(2*k+1)\n",
    "\n",
    "def calc_pi(n):\n",
    "    curr_elmnt = get_elmnt(n)\n",
    "    \n",
    "    # Define the base case \n",
    "    if n == 0:\n",
    "    \treturn 4\n",
    "      \n",
    "    # Make the recursive call\n",
    "    return 4 * curr_elmnt + calc_pi(n-1)\n",
    "  \n",
    "# Compare the approximated Pi value to the theoretical one\n",
    "print(\"approx = {}, theor = {}\".format(calc_pi(500), math.pi))"
   ]
  },
  {
   "cell_type": "markdown",
   "id": "a8230917",
   "metadata": {},
   "source": [
    "#### Accessing subarrays\n",
    "Let's access elements in NumPy arrays! Your task is to convert a square two-dimensional array square of size size to a list created by following a spiral pattern:\n",
    "\n",
    "Traversing the matrix in spiral way\n",
    "\n",
    "Rather than simply accessing certain slices, you will define a more general solution using a for loop (the solution should work for all the square two-dimensional arrays of odd size).\n",
    "\n",
    "The module numpy is already imported as np.\n",
    "\n",
    "You will need the reversed() function, which reverses an Iterable."
   ]
  },
  {
   "cell_type": "code",
   "execution_count": null,
   "id": "b86f9b69",
   "metadata": {},
   "outputs": [],
   "source": [
    "spiral = []\n",
    "\n",
    "for i in range(0, size):\n",
    "    # Convert each part marked by a red arrow to a list\n",
    "    spiral += list(square[i, i:size-i])\n",
    "    # Convert each part marked by a green arrow to a list\n",
    "    spiral += list(square[i+1:size-i, size-i-1])\n",
    "    # Convert each part marked by a blue arrow to a list\n",
    "    spiral += list(reversed(square[size-i-1, i:size-i-1]))\n",
    "    # Convert each part marked by a magenta arrow to a list\n",
    "    spiral += list(reversed(square[i+1:size-i-1, i]))\n",
    "        \n",
    "print(spiral)"
   ]
  },
  {
   "cell_type": "markdown",
   "id": "3009a1b2",
   "metadata": {},
   "source": [
    "#### Operations with NumPy arrays\n",
    "The following blocks of code create new lists given input lists input_list1, input_list2, input_list3 (you can check their values in the console). If you had analogous NumPy arrays with the same values input_array1, input_array2, input_array3 (you can check their values in the console), how would you create similar output as NumPy arrays using the knowledge on broadcasting, accessing element in NumPy arrays, and performing element-wise operations?\n",
    "\n",
    "Block 1\n",
    "\n",
    "list(map(lambda x: [5*i for i in x], input_list1))\n",
    "Block 2\n",
    "\n",
    "list(filter(lambda x: x % 2 == 0, input_list2))\n",
    "Block 3\n",
    "\n",
    "[[i*i for i in j] for j in input_list3]"
   ]
  },
  {
   "cell_type": "code",
   "execution_count": null,
   "id": "70245df9",
   "metadata": {},
   "outputs": [],
   "source": [
    "# Substitute the code in the block 1 given the input_array1\n",
    "output_array1 = 5 * input_array1\n",
    "print(list(map(lambda x: [5*i for i in x], input_list1)))\n",
    "print(output_array1)"
   ]
  },
  {
   "cell_type": "code",
   "execution_count": null,
   "id": "a69803e4",
   "metadata": {},
   "outputs": [],
   "source": [
    "# Substitute the code in the block 2 given the input_array2\n",
    "output_array2 = input_array2[input_array2 % 2 == 0]\n",
    "print(list(filter(lambda x: x % 2 == 0, input_list2)))\n",
    "print(output_array2)"
   ]
  },
  {
   "cell_type": "code",
   "execution_count": null,
   "id": "0ed70c82",
   "metadata": {},
   "outputs": [],
   "source": [
    "# Substitute the code in the block 3 given the input_array3\n",
    "output_array3 = input_array3 * input_array3\n",
    "print([[i*i for i in j] for j in input_list3])\n",
    "print(output_array3)"
   ]
  },
  {
   "cell_type": "markdown",
   "id": "f1da4b32",
   "metadata": {},
   "source": [
    "#### Simple use of .apply()\n",
    "Let's get some handful experience with .apply()!\n",
    "\n",
    "You are given the full scores dataset containing students' performance as well as their background information.\n",
    "\n",
    "Your task is to define the prevalence() function and apply it to the groups_to_consider columns of the scores DataFrame. This function should retrieve the most prevalent group/category for a given column (e.g. if the most prevalent category in the lunch column is standard, then prevalence() should return standard).\n",
    "\n",
    "The reduce() function from the functools module is already imported.\n",
    "\n",
    "Tip: pd.Series is an Iterable object. Therefore, you can use standard operations on it."
   ]
  },
  {
   "cell_type": "code",
   "execution_count": null,
   "id": "0d7194dd",
   "metadata": {},
   "outputs": [],
   "source": [
    "def prevalence(series):\n",
    "    vals = list(series)\n",
    "    # Create a tuple list with unique items and their counts\n",
    "    itms = [(x, vals.count(x)) for x in set(series)]\n",
    "    # Extract a tuple with the highest counts using reduce()\n",
    "    res = reduce(lambda x, y: x if x[1] > y[1] else y, itms)\n",
    "    # Return the item with the highest counts\n",
    "    return res[0]\n",
    "\n",
    "# Apply the prevalence function on the scores DataFrame\n",
    "result = scores[groups_to_consider].apply(prevalence)\n",
    "print(result)"
   ]
  },
  {
   "cell_type": "markdown",
   "id": "940c1bef",
   "metadata": {},
   "source": [
    "#### Additional arguments\n",
    "Let's use additional arguments in the .apply() method!\n",
    "\n",
    "Your task is to create two new columns in scores:\n",
    "\n",
    "mean is the row-wise mean value of the math score, reading score and writing score\n",
    "rank defines how high the mean score is:\n",
    "'high' if the mean value \n",
    "'medium' if the mean value  but  90\n",
    "'low' if the mean value \n",
    "To accomplish this task, you'll need to define the function rank that, given a series, returns a list with two values: the mean of the series and a string defined by the aforementioned rule.\n",
    "\n",
    "The module numpy is already imported for you as np."
   ]
  },
  {
   "cell_type": "code",
   "execution_count": null,
   "id": "d74ab508",
   "metadata": {},
   "outputs": [],
   "source": [
    "def rank(series):\n",
    "    # Calculate the mean of the input series\n",
    "    mean = np.mean(series)\n",
    "    # Return the mean and its rank as a list\n",
    "    if mean > 90:\n",
    "        return [mean, 'high']\n",
    "    if mean > 60:\n",
    "        return [mean, 'medium']\n",
    "    return [mean, 'low']\n",
    "\n",
    "# Insert the output of rank() into new columns of scores\n",
    "cols = ['math score', 'reading score', 'writing score']\n",
    "scores[['mean', 'rank']] = scores[cols].apply(rank, axis=1,\n",
    "                                              result_type='expand')\n",
    "print(scores[['mean', 'rank']].head())"
   ]
  },
  {
   "cell_type": "markdown",
   "id": "340da5c7",
   "metadata": {},
   "source": [
    "#### Functions with additional arguments\n",
    "Let's add some arguments to the function definition!\n",
    "\n",
    "Numeric data in scores represent students' performance scaled between 0 and 100. Your task is to rescale this data to an arbitrary range between low and high. Rescaling should be done in a linear fashion, i.e. for any data point  in a column:\n",
    "\n",
    " = \n",
    " \n",
    "\n",
    "To do rescaling, you'll have to define the function rescale(). Remember, the operation written above can be applied to Series directly. After defining the function, you'll have to apply it to the specified columns of scores."
   ]
  },
  {
   "cell_type": "code",
   "execution_count": null,
   "id": "642d2e4e",
   "metadata": {},
   "outputs": [],
   "source": [
    "def rescale(series, low, high):\n",
    "   # Define the expression to rescale input series\n",
    "   return series * (high - low)/100 + low\n",
    "\n",
    "# Rescale the data in cols to lie between 1 and 10\n",
    "cols = ['math score', 'reading score', 'writing score'] \n",
    "scores[cols] = scores[cols].apply(rescale, args=[1, 10])\n",
    "print(scores[cols].head())"
   ]
  },
  {
   "cell_type": "code",
   "execution_count": null,
   "id": "8e9ff4a3",
   "metadata": {},
   "outputs": [],
   "source": [
    "# Redefine the function to accept keyword arguments\n",
    "def rescale(series, low=0, high=100):\n",
    "   return series * (high - low)/100 + low\n",
    "\n",
    "# Rescale the data in cols to lie between 1 and 10\n",
    "cols = ['math score', 'reading score', 'writing score']\n",
    "scores[cols] = scores[cols].apply(rescale, low=1, high=10)\n",
    "print(scores[cols].head())"
   ]
  },
  {
   "cell_type": "markdown",
   "id": "ee80e43d",
   "metadata": {},
   "source": [
    "#### Standard DataFrame methods\n",
    "You are given the diabetes dataset storing information on female patients tested for diabetes. You will focus on blood glucose levels and the test results. Subjects, tested positively, usually have higher blood glucose levels after performing the so-called glucose tolerance test. Your task is to investigate whether it is true for this specific dataset.\n",
    "\n",
    "The plasma glucose column corresponds to the glucose levels. The test result column corresponds to the diabetes test results.\n",
    "\n",
    "You must use standard DataFrame methods (the numpy module is not imported for you)."
   ]
  },
  {
   "cell_type": "code",
   "execution_count": null,
   "id": "97ca92c9",
   "metadata": {},
   "outputs": [],
   "source": [
    "# Load the data from the diabetes.csv file\n",
    "diabetes = pd.read_csv('diabetes.csv')\n",
    "print(diabetes.info())\n",
    "\n",
    "# Calculate the mean glucose level in the entire dataset\n",
    "print(diabetes['plasma glucose'].mean())\n",
    "\n",
    "# Group the data according to the diabetes test results\n",
    "diabetes_grouped = diabetes.groupby('test result')\n",
    "\n",
    "# Calculate the mean glucose levels per group\n",
    "print(diabetes_grouped['plasma glucose'].mean())"
   ]
  },
  {
   "cell_type": "markdown",
   "id": "542271f2",
   "metadata": {},
   "source": [
    "#### BMI of villains\n",
    "Let's return to the heroes dataset containing the information on different comic book heroes. We added a bmi column to the dataset calculated as Weight divided by (Height/100)**2. This index helps define whether an individual has weight problems.\n",
    "\n",
    "Your task is to find out what is the mean value and standard deviation of the BMI index depending on the character's 'Alignment' and the 'Publisher' whom this character belongs to. However, you'll need to consider only those groups that have more than 10 valid observations of the BMI index.\n",
    "\n",
    "Tip: use .count() to calculate the number of valid observations."
   ]
  },
  {
   "cell_type": "code",
   "execution_count": null,
   "id": "db69f177",
   "metadata": {},
   "outputs": [],
   "source": [
    "import numpy as np\n",
    "\n",
    "# Group the data by two factors specified in the context\n",
    "groups = heroes.groupby(['Publisher', 'Alignment'])\n",
    "\n",
    "# Filter groups having more than 10 valid bmi observations\n",
    "fheroes = groups.filter(lambda x: x['bmi'].count() > 10)\n",
    "\n",
    "# Group the filtered data again by the same factors\n",
    "fgroups = fheroes.groupby(['Publisher', 'Alignment'])\n",
    "\n",
    "# Calculate the mean and standard deviation of the BMI index\n",
    "result = fgroups['bmi'].agg([np.mean, np.std])\n",
    "print(result)"
   ]
  },
  {
   "cell_type": "markdown",
   "id": "41be588a",
   "metadata": {},
   "source": [
    "#### NaN value imputation\n",
    "Let's try to impute some values, using the .transform() method. In the previous task you created a DataFrame fheroes where all the groups with insufficient amount of bmi observations were removed. Our bmi column has a lot of missing values (NaNs) though. Given two copies of the fheroes DataFrame (imp_globmean and imp_grpmean), your task is to impute the NaNs in the bmi column with the overall mean value and with the mean value per group defined by Publisher and Alignment factors, respectively.\n",
    "\n",
    "Tip: pandas Series and NumPy arrays have a special .fillna() method which substitutes all the encountered NaNs with a value specified as an argument."
   ]
  },
  {
   "cell_type": "code",
   "execution_count": null,
   "id": "3db67403",
   "metadata": {},
   "outputs": [],
   "source": [
    "# Define a lambda function that imputes NaN values in series\n",
    "impute = lambda series: series.fillna(np.mean(series))\n",
    "\n",
    "# Impute NaNs in the bmi column of imp_globmean\n",
    "imp_globmean['bmi'] = imp_globmean['bmi'].transform(impute)\n",
    "print(\"Global mean = \" + str(fheroes['bmi'].mean()) + \"\\n\")\n",
    "\n",
    "groups = imp_grpmean.groupby(['Publisher', 'Alignment'])\n",
    "\n",
    "# Impute NaNs in the bmi column of imp_grpmean\n",
    "imp_grpmean['bmi'] = groups['bmi'].transform(impute)\n",
    "print(groups['bmi'].mean())"
   ]
  },
  {
   "cell_type": "markdown",
   "id": "85f3ac69",
   "metadata": {},
   "source": [
    "#### Plot a histogram\n",
    "Let's further investigate the retinol dataset. Your task now is to create a histogram of the plasma retinol feature."
   ]
  },
  {
   "cell_type": "code",
   "execution_count": null,
   "id": "19d843f7",
   "metadata": {},
   "outputs": [],
   "source": [
    "# Plot a simple histogram of the plasma retinol feature\n",
    "plt.hist(retinol['plasma retinol'])\n",
    "plt.show()"
   ]
  },
  {
   "cell_type": "code",
   "execution_count": null,
   "id": "a7f0a0ba",
   "metadata": {},
   "outputs": [],
   "source": [
    "# Redefine the histogram to have 20 bins\n",
    "plt.hist(retinol['plasma retinol'], bins=20)\n",
    "plt.show()"
   ]
  },
  {
   "cell_type": "code",
   "execution_count": null,
   "id": "869cd7f4",
   "metadata": {},
   "outputs": [],
   "source": [
    "plt.hist(retinol['plasma retinol'], bins=20)\n",
    "\n",
    "# Add a title to the plot\n",
    "plt.title('Distribution of Plasma Retinol')\n",
    "plt.show()"
   ]
  },
  {
   "cell_type": "code",
   "execution_count": null,
   "id": "664cfaea",
   "metadata": {},
   "outputs": [],
   "source": [
    "plt.hist(retinol['plasma retinol'], bins=20)\n",
    "plt.title('Histogram of Plasma Retinol')\n",
    "\n",
    "# Add other missing parts to the plot\n",
    "plt.xlabel('Plasma Retinol')\n",
    "plt.ylabel('Counts')\n",
    "plt.show()"
   ]
  },
  {
   "cell_type": "markdown",
   "id": "2dc387ac",
   "metadata": {},
   "source": [
    "#### Creating boxplots\n",
    "Let's get back to our heroes dataset. As we previously discovered, the BMI index is in average much higher for villains than for good characters (taking into account only Marvel and DC publishers). Your task is to plot the corresponding distributions of BMI indices using boxplots.\n",
    "\n",
    "Tip: to select rows in a DataFrame, for which a specific column follows a certain condition, use this expression dataframe[condition for column_name] (e.g. heroes[heroes['Alignment'] == 'good'] selects rows that have a 'good' Alignment in the heroes dataset)."
   ]
  },
  {
   "cell_type": "code",
   "execution_count": null,
   "id": "c9cef879",
   "metadata": {},
   "outputs": [],
   "source": [
    "import seaborn as sns\n",
    "\n",
    "# Create a boxplot of BMI indices for 'good' and 'bad' sides\n",
    "sns.boxplot(x='Alignment', y='bmi', data=heroes)\n",
    "plt.show()"
   ]
  },
  {
   "cell_type": "code",
   "execution_count": null,
   "id": "8025376c",
   "metadata": {},
   "outputs": [],
   "source": [
    "import seaborn as sns\n",
    "\n",
    "# Select rows from heroes for which the BMI index < 1000\n",
    "heroes_filtered = heroes[heroes['bmi'] < 1000]"
   ]
  },
  {
   "cell_type": "code",
   "execution_count": null,
   "id": "6b0b1380",
   "metadata": {},
   "outputs": [],
   "source": [
    "import seaborn as sns\n",
    "\n",
    "# Select rows from 'heroes' for which the BMI index < 1000\n",
    "heroes_filtered = heroes[heroes['bmi'] < 1000]\n",
    "\n",
    "# Create a new boxplot of BMI indices\n",
    "sns.boxplot(x='Alignment', y='bmi', data=heroes_filtered)\n",
    "plt.show()"
   ]
  }
 ],
 "metadata": {
  "kernelspec": {
   "display_name": "Python 3 (ipykernel)",
   "language": "python",
   "name": "python3"
  },
  "language_info": {
   "codemirror_mode": {
    "name": "ipython",
    "version": 3
   },
   "file_extension": ".py",
   "mimetype": "text/x-python",
   "name": "python",
   "nbconvert_exporter": "python",
   "pygments_lexer": "ipython3",
   "version": "3.9.12"
  }
 },
 "nbformat": 4,
 "nbformat_minor": 5
}
